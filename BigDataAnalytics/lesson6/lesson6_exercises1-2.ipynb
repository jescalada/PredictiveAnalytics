{
 "cells": [
  {
   "cell_type": "code",
   "execution_count": 1,
   "id": "8974b03a-f5b6-4ac3-8e61-93634a762fdf",
   "metadata": {
    "tags": []
   },
   "outputs": [
    {
     "name": "stderr",
     "output_type": "stream",
     "text": [
      "Warning: path already exists! This predictor may overwrite an existing predictor! path=\"iris_models\"\n",
      "Beginning AutoGluon training ... Time limit = 10000s\n",
      "AutoGluon will save models to \"iris_models/\"\n",
      "AutoGluon Version:  0.6.2\n",
      "Python Version:     3.7.12\n",
      "Operating System:   Linux\n",
      "Platform Machine:   x86_64\n",
      "Platform Version:   #1 SMP Fri Jan 12 09:58:17 UTC 2024\n",
      "Train Data Rows:    112\n",
      "Train Data Columns: 4\n",
      "Label Column: iris_type\n",
      "Preprocessing data ...\n",
      "AutoGluon infers your prediction problem is: 'multiclass' (because dtype of label-column == object).\n",
      "\t3 unique label values:  ['Iris-setosa', 'Iris-versicolor', 'Iris-virginica']\n",
      "\tIf 'multiclass' is not the correct problem_type, please manually specify the problem_type parameter during predictor init (You may specify problem_type as one of: ['binary', 'multiclass', 'regression'])\n",
      "Train Data Class Count: 3\n",
      "Using Feature Generators to preprocess the data ...\n",
      "Fitting AutoMLPipelineFeatureGenerator...\n",
      "\tAvailable Memory:                    13329.49 MB\n",
      "\tTrain Data (Original)  Memory Usage: 0.0 MB (0.0% of available memory)\n",
      "\tInferring data type of each feature based on column values. Set feature_metadata_in to manually specify special dtypes of the features.\n",
      "\tStage 1 Generators:\n",
      "\t\tFitting AsTypeFeatureGenerator...\n",
      "\tStage 2 Generators:\n",
      "\t\tFitting FillNaFeatureGenerator...\n",
      "\tStage 3 Generators:\n",
      "\t\tFitting IdentityFeatureGenerator...\n",
      "\tStage 4 Generators:\n",
      "\t\tFitting DropUniqueFeatureGenerator...\n",
      "\tTypes of features in original data (raw dtype, special dtypes):\n",
      "\t\t('float', []) : 4 | ['petal_length', 'petal_width', 'sepal_length', 'sepal_width']\n",
      "\tTypes of features in processed data (raw dtype, special dtypes):\n",
      "\t\t('float', []) : 4 | ['petal_length', 'petal_width', 'sepal_length', 'sepal_width']\n",
      "\t0.0s = Fit runtime\n",
      "\t4 features in original data used to generate 4 features in processed data.\n",
      "\tTrain Data (Processed) Memory Usage: 0.0 MB (0.0% of available memory)\n",
      "Data preprocessing and feature engineering runtime = 0.05s ...\n",
      "AutoGluon will gauge predictive performance using evaluation metric: 'accuracy'\n",
      "\tTo change this, specify the eval_metric parameter of Predictor()\n",
      "Automatically generating train/validation split with holdout_frac=0.2, Train Rows: 89, Val Rows: 23\n",
      "Fitting 13 L1 models ...\n",
      "Fitting model: KNeighborsUnif ... Training model for up to 9999.95s of the 9999.95s of remaining time.\n"
     ]
    },
    {
     "name": "stdout",
     "output_type": "stream",
     "text": [
      "     petal_length  petal_width  sepal_length  sepal_width       iris_type\n",
      "0             5.1          3.5           1.4          0.2     Iris-setosa\n",
      "1             4.9          3.0           1.4          0.2     Iris-setosa\n",
      "2             4.7          3.2           1.3          0.2     Iris-setosa\n",
      "3             4.6          3.1           1.5          0.2     Iris-setosa\n",
      "4             5.0          3.6           1.4          0.2     Iris-setosa\n",
      "..            ...          ...           ...          ...             ...\n",
      "145           6.7          3.0           5.2          2.3  Iris-virginica\n",
      "146           6.3          2.5           5.0          1.9  Iris-virginica\n",
      "147           6.5          3.0           5.2          2.0  Iris-virginica\n",
      "148           6.2          3.4           5.4          2.3  Iris-virginica\n",
      "149           5.9          3.0           5.1          1.8  Iris-virginica\n",
      "\n",
      "[150 rows x 5 columns]\n"
     ]
    },
    {
     "name": "stderr",
     "output_type": "stream",
     "text": [
      "\t0.9565\t = Validation score   (accuracy)\n",
      "\t1.55s\t = Training   runtime\n",
      "\t0.13s\t = Validation runtime\n",
      "Fitting model: KNeighborsDist ... Training model for up to 9998.21s of the 9998.2s of remaining time.\n",
      "\t0.9565\t = Validation score   (accuracy)\n",
      "\t0.01s\t = Training   runtime\n",
      "\t0.11s\t = Validation runtime\n",
      "Fitting model: NeuralNetFastAI ... Training model for up to 9998.09s of the 9998.09s of remaining time.\n",
      "No improvement since epoch 6: early stopping\n",
      "\t0.9565\t = Validation score   (accuracy)\n",
      "\t1.63s\t = Training   runtime\n",
      "\t0.01s\t = Validation runtime\n",
      "Fitting model: LightGBMXT ... Training model for up to 9996.43s of the 9996.42s of remaining time.\n",
      "\t0.9565\t = Validation score   (accuracy)\n",
      "\t0.69s\t = Training   runtime\n",
      "\t0.0s\t = Validation runtime\n",
      "Fitting model: LightGBM ... Training model for up to 9995.73s of the 9995.73s of remaining time.\n",
      "\t0.913\t = Validation score   (accuracy)\n",
      "\t0.22s\t = Training   runtime\n",
      "\t0.0s\t = Validation runtime\n",
      "Fitting model: RandomForestGini ... Training model for up to 9995.5s of the 9995.5s of remaining time.\n",
      "\t0.913\t = Validation score   (accuracy)\n",
      "\t0.83s\t = Training   runtime\n",
      "\t0.1s\t = Validation runtime\n",
      "Fitting model: RandomForestEntr ... Training model for up to 9994.56s of the 9994.55s of remaining time.\n",
      "\t0.913\t = Validation score   (accuracy)\n",
      "\t0.7s\t = Training   runtime\n",
      "\t0.1s\t = Validation runtime\n",
      "Fitting model: CatBoost ... Training model for up to 9993.74s of the 9993.73s of remaining time.\n",
      "\t0.9565\t = Validation score   (accuracy)\n",
      "\t0.3s\t = Training   runtime\n",
      "\t0.0s\t = Validation runtime\n",
      "Fitting model: ExtraTreesGini ... Training model for up to 9993.43s of the 9993.42s of remaining time.\n",
      "\t0.9565\t = Validation score   (accuracy)\n",
      "\t0.81s\t = Training   runtime\n",
      "\t0.1s\t = Validation runtime\n",
      "Fitting model: ExtraTreesEntr ... Training model for up to 9992.5s of the 9992.5s of remaining time.\n",
      "\t0.9565\t = Validation score   (accuracy)\n",
      "\t0.82s\t = Training   runtime\n",
      "\t0.2s\t = Validation runtime\n",
      "Fitting model: XGBoost ... Training model for up to 9991.44s of the 9991.44s of remaining time.\n",
      "\t0.9565\t = Validation score   (accuracy)\n",
      "\t1.86s\t = Training   runtime\n",
      "\t0.01s\t = Validation runtime\n",
      "Fitting model: NeuralNetTorch ... Training model for up to 9989.54s of the 9989.54s of remaining time.\n",
      "\t0.9565\t = Validation score   (accuracy)\n",
      "\t0.62s\t = Training   runtime\n",
      "\t0.0s\t = Validation runtime\n",
      "Fitting model: LightGBMLarge ... Training model for up to 9988.91s of the 9988.91s of remaining time.\n",
      "\t0.913\t = Validation score   (accuracy)\n",
      "\t0.38s\t = Training   runtime\n",
      "\t0.0s\t = Validation runtime\n",
      "Fitting model: WeightedEnsemble_L2 ... Training model for up to 999.99s of the 9988.51s of remaining time.\n",
      "\t0.9565\t = Validation score   (accuracy)\n",
      "\t0.25s\t = Training   runtime\n",
      "\t0.0s\t = Validation runtime\n",
      "AutoGluon training complete, total runtime = 11.76s ... Best model: \"WeightedEnsemble_L2\"\n",
      "TabularPredictor saved. To load, use: predictor = TabularPredictor.load(\"iris_models/\")\n"
     ]
    }
   ],
   "source": [
    "from autogluon.tabular import TabularDataset, TabularPredictor\n",
    "from sklearn.model_selection import train_test_split\n",
    "import pandas as pd\n",
    "\n",
    "# Load data from sklearn library.\n",
    "df = pd.read_csv(\"iris_v2.csv\")\n",
    "print(df)\n",
    "\n",
    "# Split data.\n",
    "train_data, test_data = train_test_split(df, test_size=0.25)\n",
    "\n",
    "predictor = TabularPredictor(label='iris_type',eval_metric='accuracy', path='iris_models').fit(train_data, time_limit=10000)  # Fit models for 120s\n"
   ]
  },
  {
   "cell_type": "code",
   "execution_count": null,
   "id": "5b70cd87-284b-4644-bea4-d3cbeaa0bf9d",
   "metadata": {},
   "outputs": [],
   "source": []
  },
  {
   "cell_type": "code",
   "execution_count": 2,
   "id": "fec2a2b4-6549-4bde-ac83-1f2abf5324fc",
   "metadata": {
    "tags": []
   },
   "outputs": [
    {
     "name": "stderr",
     "output_type": "stream",
     "text": [
      "Computing feature importance via permutation shuffling for 4 features using 112 rows with 5 shuffle sets...\n",
      "\t2.97s\t= Expected runtime (0.59s per shuffle set)\n",
      "\t1.23s\t= Actual runtime (Completed 5 of 5 shuffle sets)\n"
     ]
    },
    {
     "data": {
      "text/html": [
       "<div>\n",
       "<style scoped>\n",
       "    .dataframe tbody tr th:only-of-type {\n",
       "        vertical-align: middle;\n",
       "    }\n",
       "\n",
       "    .dataframe tbody tr th {\n",
       "        vertical-align: top;\n",
       "    }\n",
       "\n",
       "    .dataframe thead th {\n",
       "        text-align: right;\n",
       "    }\n",
       "</style>\n",
       "<table border=\"1\" class=\"dataframe\">\n",
       "  <thead>\n",
       "    <tr style=\"text-align: right;\">\n",
       "      <th></th>\n",
       "      <th>importance</th>\n",
       "      <th>stddev</th>\n",
       "      <th>p_value</th>\n",
       "      <th>n</th>\n",
       "      <th>p99_high</th>\n",
       "      <th>p99_low</th>\n",
       "    </tr>\n",
       "  </thead>\n",
       "  <tbody>\n",
       "    <tr>\n",
       "      <th>sepal_width</th>\n",
       "      <td>0.208929</td>\n",
       "      <td>0.025723</td>\n",
       "      <td>0.000027</td>\n",
       "      <td>5</td>\n",
       "      <td>0.261893</td>\n",
       "      <td>0.155965</td>\n",
       "    </tr>\n",
       "    <tr>\n",
       "      <th>sepal_length</th>\n",
       "      <td>0.173214</td>\n",
       "      <td>0.041207</td>\n",
       "      <td>0.000357</td>\n",
       "      <td>5</td>\n",
       "      <td>0.258060</td>\n",
       "      <td>0.088368</td>\n",
       "    </tr>\n",
       "    <tr>\n",
       "      <th>petal_length</th>\n",
       "      <td>0.012500</td>\n",
       "      <td>0.010180</td>\n",
       "      <td>0.025803</td>\n",
       "      <td>5</td>\n",
       "      <td>0.033461</td>\n",
       "      <td>-0.008461</td>\n",
       "    </tr>\n",
       "    <tr>\n",
       "      <th>petal_width</th>\n",
       "      <td>0.003571</td>\n",
       "      <td>0.004890</td>\n",
       "      <td>0.088904</td>\n",
       "      <td>5</td>\n",
       "      <td>0.013641</td>\n",
       "      <td>-0.006498</td>\n",
       "    </tr>\n",
       "  </tbody>\n",
       "</table>\n",
       "</div>"
      ],
      "text/plain": [
       "              importance    stddev   p_value  n  p99_high   p99_low\n",
       "sepal_width     0.208929  0.025723  0.000027  5  0.261893  0.155965\n",
       "sepal_length    0.173214  0.041207  0.000357  5  0.258060  0.088368\n",
       "petal_length    0.012500  0.010180  0.025803  5  0.033461 -0.008461\n",
       "petal_width     0.003571  0.004890  0.088904  5  0.013641 -0.006498"
      ]
     },
     "execution_count": 2,
     "metadata": {},
     "output_type": "execute_result"
    }
   ],
   "source": [
    "predictor.feature_importance(data= train_data)"
   ]
  },
  {
   "cell_type": "code",
   "execution_count": 3,
   "id": "b80c7dbd-5c23-4a7c-846b-34f2a46483f0",
   "metadata": {
    "tags": []
   },
   "outputs": [],
   "source": [
    "from sklearn.metrics import classification_report"
   ]
  },
  {
   "cell_type": "code",
   "execution_count": 4,
   "id": "fd04e80f-517a-41f3-8ba4-67a6a47996ba",
   "metadata": {
    "tags": []
   },
   "outputs": [],
   "source": [
    "y_true = test_data[\"iris_type\"]\n",
    "y_pred = predictor.predict(test_data)"
   ]
  },
  {
   "cell_type": "code",
   "execution_count": 5,
   "id": "402d5915-3b6b-4004-8dbc-d07780deac6e",
   "metadata": {
    "tags": []
   },
   "outputs": [
    {
     "name": "stdout",
     "output_type": "stream",
     "text": [
      "                 precision    recall  f1-score   support\n",
      "\n",
      "    Iris-setosa       1.00      1.00      1.00        12\n",
      "Iris-versicolor       0.90      1.00      0.95         9\n",
      " Iris-virginica       1.00      0.94      0.97        17\n",
      "\n",
      "       accuracy                           0.97        38\n",
      "      macro avg       0.97      0.98      0.97        38\n",
      "   weighted avg       0.98      0.97      0.97        38\n",
      "\n"
     ]
    }
   ],
   "source": [
    "print(classification_report(y_true, y_pred))"
   ]
  },
  {
   "cell_type": "code",
   "execution_count": 6,
   "id": "328811b4-94d5-4a75-831e-29361d0b083f",
   "metadata": {
    "tags": []
   },
   "outputs": [
    {
     "name": "stderr",
     "output_type": "stream",
     "text": [
      "Warning: path already exists! This predictor may overwrite an existing predictor! path=\"use_price_models\"\n",
      "Beginning AutoGluon training ... Time limit = 60s\n",
      "AutoGluon will save models to \"use_price_models/\"\n",
      "AutoGluon Version:  0.6.2\n",
      "Python Version:     3.7.12\n",
      "Operating System:   Linux\n",
      "Platform Machine:   x86_64\n",
      "Platform Version:   #1 SMP Fri Jan 12 09:58:17 UTC 2024\n",
      "Train Data Rows:    3750\n",
      "Train Data Columns: 5\n",
      "Label Column: Price\n",
      "Preprocessing data ...\n",
      "AutoGluon infers your prediction problem is: 'regression' (because dtype of label-column == float and many unique label-values observed).\n",
      "\tLabel info (max, min, mean, stddev): (2469065.5941747027, 88591.77016003926, 1230123.16071, 350542.23691)\n",
      "\tIf 'regression' is not the correct problem_type, please manually specify the problem_type parameter during predictor init (You may specify problem_type as one of: ['binary', 'multiclass', 'regression'])\n",
      "Using Feature Generators to preprocess the data ...\n",
      "Fitting AutoMLPipelineFeatureGenerator...\n",
      "\tAvailable Memory:                    13135.31 MB\n",
      "\tTrain Data (Original)  Memory Usage: 0.15 MB (0.0% of available memory)\n",
      "\tInferring data type of each feature based on column values. Set feature_metadata_in to manually specify special dtypes of the features.\n",
      "\tStage 1 Generators:\n",
      "\t\tFitting AsTypeFeatureGenerator...\n",
      "\tStage 2 Generators:\n",
      "\t\tFitting FillNaFeatureGenerator...\n",
      "\tStage 3 Generators:\n",
      "\t\tFitting IdentityFeatureGenerator...\n",
      "\tStage 4 Generators:\n",
      "\t\tFitting DropUniqueFeatureGenerator...\n",
      "\tTypes of features in original data (raw dtype, special dtypes):\n",
      "\t\t('float', []) : 5 | ['Avg. Area Income', 'Avg. Area House Age', 'Avg. Area Number of Rooms', 'Avg. Area Number of Bedrooms', 'Area Population']\n",
      "\tTypes of features in processed data (raw dtype, special dtypes):\n",
      "\t\t('float', []) : 5 | ['Avg. Area Income', 'Avg. Area House Age', 'Avg. Area Number of Rooms', 'Avg. Area Number of Bedrooms', 'Area Population']\n",
      "\t0.0s = Fit runtime\n",
      "\t5 features in original data used to generate 5 features in processed data.\n",
      "\tTrain Data (Processed) Memory Usage: 0.15 MB (0.0% of available memory)\n",
      "Data preprocessing and feature engineering runtime = 0.06s ...\n",
      "AutoGluon will gauge predictive performance using evaluation metric: 'root_mean_squared_error'\n",
      "\tThis metric's sign has been flipped to adhere to being higher_is_better. The metric score can be multiplied by -1 to get the metric value.\n",
      "\tTo change this, specify the eval_metric parameter of Predictor()\n",
      "Automatically generating train/validation split with holdout_frac=0.13333333333333333, Train Rows: 3250, Val Rows: 500\n",
      "Fitting 11 L1 models ...\n",
      "Fitting model: KNeighborsUnif ... Training model for up to 59.94s of the 59.94s of remaining time.\n"
     ]
    },
    {
     "name": "stdout",
     "output_type": "stream",
     "text": [
      "      Avg. Area Income  Avg. Area House Age  Avg. Area Number of Rooms  \\\n",
      "0         79545.458574             5.682861                   7.009188   \n",
      "1         79248.642455             6.002900                   6.730821   \n",
      "2         61287.067179             5.865890                   8.512727   \n",
      "3         63345.240046             7.188236                   5.586729   \n",
      "4         59982.197226             5.040555                   7.839388   \n",
      "...                ...                  ...                        ...   \n",
      "4995      60567.944140             7.830362                   6.137356   \n",
      "4996      78491.275435             6.999135                   6.576763   \n",
      "4997      63390.686886             7.250591                   4.805081   \n",
      "4998      68001.331235             5.534388                   7.130144   \n",
      "4999      65510.581804             5.992305                   6.792336   \n",
      "\n",
      "      Avg. Area Number of Bedrooms  Area Population         Price  \n",
      "0                             4.09     23086.800503  1.059034e+06  \n",
      "1                             3.09     40173.072174  1.505891e+06  \n",
      "2                             5.13     36882.159400  1.058988e+06  \n",
      "3                             3.26     34310.242831  1.260617e+06  \n",
      "4                             4.23     26354.109472  6.309435e+05  \n",
      "...                            ...              ...           ...  \n",
      "4995                          3.46     22837.361035  1.060194e+06  \n",
      "4996                          4.02     25616.115489  1.482618e+06  \n",
      "4997                          2.13     33266.145490  1.030730e+06  \n",
      "4998                          5.44     42625.620156  1.198657e+06  \n",
      "4999                          4.07     46501.283803  1.298950e+06  \n",
      "\n",
      "[5000 rows x 6 columns]\n"
     ]
    },
    {
     "name": "stderr",
     "output_type": "stream",
     "text": [
      "\t-250229.2022\t = Validation score   (-root_mean_squared_error)\n",
      "\t0.01s\t = Training   runtime\n",
      "\t0.1s\t = Validation runtime\n",
      "Fitting model: KNeighborsDist ... Training model for up to 59.83s of the 59.83s of remaining time.\n",
      "\t-254912.4168\t = Validation score   (-root_mean_squared_error)\n",
      "\t0.01s\t = Training   runtime\n",
      "\t0.1s\t = Validation runtime\n",
      "Fitting model: LightGBMXT ... Training model for up to 59.71s of the 59.71s of remaining time.\n",
      "\t-109948.8682\t = Validation score   (-root_mean_squared_error)\n",
      "\t0.64s\t = Training   runtime\n",
      "\t0.01s\t = Validation runtime\n",
      "Fitting model: LightGBM ... Training model for up to 59.04s of the 59.04s of remaining time.\n",
      "\t-115903.535\t = Validation score   (-root_mean_squared_error)\n",
      "\t0.49s\t = Training   runtime\n",
      "\t0.01s\t = Validation runtime\n",
      "Fitting model: RandomForestMSE ... Training model for up to 58.53s of the 58.53s of remaining time.\n",
      "\t-125917.0821\t = Validation score   (-root_mean_squared_error)\n",
      "\t1.49s\t = Training   runtime\n",
      "\t0.1s\t = Validation runtime\n",
      "Fitting model: CatBoost ... Training model for up to 56.66s of the 56.65s of remaining time.\n",
      "\t-108228.077\t = Validation score   (-root_mean_squared_error)\n",
      "\t0.99s\t = Training   runtime\n",
      "\t0.0s\t = Validation runtime\n",
      "Fitting model: ExtraTreesMSE ... Training model for up to 55.65s of the 55.65s of remaining time.\n",
      "\t-120305.8575\t = Validation score   (-root_mean_squared_error)\n",
      "\t0.89s\t = Training   runtime\n",
      "\t0.1s\t = Validation runtime\n",
      "Fitting model: NeuralNetFastAI ... Training model for up to 54.37s of the 54.37s of remaining time.\n",
      "No improvement since epoch 4: early stopping\n",
      "\t-103120.1141\t = Validation score   (-root_mean_squared_error)\n",
      "\t3.56s\t = Training   runtime\n",
      "\t0.01s\t = Validation runtime\n",
      "Fitting model: XGBoost ... Training model for up to 50.78s of the 50.78s of remaining time.\n",
      "\t-115510.6793\t = Validation score   (-root_mean_squared_error)\n",
      "\t3.01s\t = Training   runtime\n",
      "\t0.02s\t = Validation runtime\n",
      "Fitting model: NeuralNetTorch ... Training model for up to 47.74s of the 47.74s of remaining time.\n",
      "\t-104826.3011\t = Validation score   (-root_mean_squared_error)\n",
      "\t6.58s\t = Training   runtime\n",
      "\t0.01s\t = Validation runtime\n",
      "Fitting model: LightGBMLarge ... Training model for up to 41.15s of the 41.15s of remaining time.\n",
      "\t-121722.3135\t = Validation score   (-root_mean_squared_error)\n",
      "\t1.59s\t = Training   runtime\n",
      "\t0.01s\t = Validation runtime\n",
      "Fitting model: WeightedEnsemble_L2 ... Training model for up to 59.94s of the 39.45s of remaining time.\n",
      "\t-101749.2888\t = Validation score   (-root_mean_squared_error)\n",
      "\t0.38s\t = Training   runtime\n",
      "\t0.0s\t = Validation runtime\n",
      "AutoGluon training complete, total runtime = 20.96s ... Best model: \"WeightedEnsemble_L2\"\n",
      "TabularPredictor saved. To load, use: predictor = TabularPredictor.load(\"use_price_models/\")\n",
      "Evaluation: root_mean_squared_error on test data: -103514.30011688826\n",
      "\tNote: Scores are always higher_is_better. This metric score can be multiplied by -1 to get the metric value.\n",
      "Evaluations on test data:\n",
      "{\n",
      "    \"root_mean_squared_error\": -103514.30011688826,\n",
      "    \"mean_squared_error\": -10715210328.689215,\n",
      "    \"mean_absolute_error\": -83038.92028356803,\n",
      "    \"r2\": 0.9176270082712711,\n",
      "    \"pearsonr\": 0.9588516300446484,\n",
      "    \"median_absolute_error\": -72105.5970175782\n",
      "}\n"
     ]
    }
   ],
   "source": [
    "from autogluon.core.metrics import make_scorer\n",
    "from autogluon.tabular import TabularDataset, TabularPredictor\n",
    "from IPython.display import HTML\n",
    "import numpy as np\n",
    "\n",
    "import pandas as pd\n",
    "\n",
    "# Load data from sklearn library.\n",
    "df = pd.read_csv(\"USA_Housing.csv\")\n",
    "\n",
    "del df['Address']\n",
    "print(df)\n",
    "\n",
    "# Split data.\n",
    "from sklearn.model_selection import train_test_split\n",
    "train_data, test_data = train_test_split(df, test_size=0.25)\n",
    "\n",
    "predictor = TabularPredictor(label='Price', path=\"use_price_models\").fit(train_data, time_limit=60)\n",
    "performance = predictor.evaluate(test_data)\n"
   ]
  },
  {
   "cell_type": "code",
   "execution_count": 7,
   "id": "80b81fb2-b26a-419e-a2d0-8391404e76da",
   "metadata": {
    "tags": []
   },
   "outputs": [
    {
     "name": "stdout",
     "output_type": "stream",
     "text": [
      "                  model     score_test      score_val  pred_time_test  pred_time_val   fit_time  pred_time_test_marginal  pred_time_val_marginal  fit_time_marginal  stack_level  can_infer  fit_order\n",
      "0   WeightedEnsemble_L2 -103514.300117 -101749.288802        0.223248       0.147964  15.162916                 0.005617                0.000634           0.379571            2       True         12\n",
      "1        NeuralNetTorch -103610.668204 -104826.301139        0.009185       0.005691   6.575496                 0.009185                0.005691           6.575496            1       True         10\n",
      "2              CatBoost -104242.411711 -108228.077012        0.003713       0.001824   0.993341                 0.003713                0.001824           0.993341            1       True          6\n",
      "3            LightGBMXT -106518.739542 -109948.868237        0.026007       0.007439   0.643019                 0.026007                0.007439           0.643019            1       True          3\n",
      "4       NeuralNetFastAI -106856.098256 -103120.114087        0.048072       0.013753   3.558248                 0.048072                0.013753           3.558248            1       True          8\n",
      "5              LightGBM -110072.177875 -115903.535011        0.012858       0.005433   0.494141                 0.012858                0.005433           0.494141            1       True          4\n",
      "6               XGBoost -111352.514574 -115510.679334        0.027145       0.015388   3.005039                 0.027145                0.015388           3.005039            1       True          9\n",
      "7         ExtraTreesMSE -113577.489030 -120305.857525        0.270139       0.103715   0.892704                 0.270139                0.103715           0.892704            1       True          7\n",
      "8         LightGBMLarge -115313.377375 -121722.313492        0.048337       0.007747   1.588256                 0.048337                0.007747           1.588256            1       True         11\n",
      "9       RandomForestMSE -119418.725826 -125917.082070        0.211748       0.103292   1.491861                 0.211748                0.103292           1.491861            1       True          5\n",
      "10       KNeighborsUnif -248743.744783 -250229.202212        0.104151       0.103217   0.007144                 0.104151                0.103217           0.007144            1       True          1\n",
      "11       KNeighborsDist -254918.759061 -254912.416843        0.103510       0.103235   0.008203                 0.103510                0.103235           0.008203            1       True          2\n",
      "                                          0               1              2   \\\n",
      "model                    WeightedEnsemble_L2  NeuralNetTorch       CatBoost   \n",
      "score_test                    -103514.300117  -103610.668204 -104242.411711   \n",
      "score_val                     -101749.288802  -104826.301139 -108228.077012   \n",
      "pred_time_test                      0.223248        0.009185       0.003713   \n",
      "pred_time_val                       0.147964        0.005691       0.001824   \n",
      "fit_time                           15.162916        6.575496       0.993341   \n",
      "pred_time_test_marginal             0.005617        0.009185       0.003713   \n",
      "pred_time_val_marginal              0.000634        0.005691       0.001824   \n",
      "fit_time_marginal                   0.379571        6.575496       0.993341   \n",
      "stack_level                                2               1              1   \n",
      "can_infer                               True            True           True   \n",
      "fit_order                                 12              10              6   \n",
      "\n",
      "                                    3                4              5   \\\n",
      "model                       LightGBMXT  NeuralNetFastAI       LightGBM   \n",
      "score_test              -106518.739542   -106856.098256 -110072.177875   \n",
      "score_val               -109948.868237   -103120.114087 -115903.535011   \n",
      "pred_time_test                0.026007         0.048072       0.012858   \n",
      "pred_time_val                 0.007439         0.013753       0.005433   \n",
      "fit_time                      0.643019         3.558248       0.494141   \n",
      "pred_time_test_marginal       0.026007         0.048072       0.012858   \n",
      "pred_time_val_marginal        0.007439         0.013753       0.005433   \n",
      "fit_time_marginal             0.643019         3.558248       0.494141   \n",
      "stack_level                          1                1              1   \n",
      "can_infer                         True             True           True   \n",
      "fit_order                            3                8              4   \n",
      "\n",
      "                                    6              7              8   \\\n",
      "model                          XGBoost  ExtraTreesMSE  LightGBMLarge   \n",
      "score_test              -111352.514574  -113577.48903 -115313.377375   \n",
      "score_val               -115510.679334 -120305.857525 -121722.313492   \n",
      "pred_time_test                0.027145       0.270139       0.048337   \n",
      "pred_time_val                 0.015388       0.103715       0.007747   \n",
      "fit_time                      3.005039       0.892704       1.588256   \n",
      "pred_time_test_marginal       0.027145       0.270139       0.048337   \n",
      "pred_time_val_marginal        0.015388       0.103715       0.007747   \n",
      "fit_time_marginal             3.005039       0.892704       1.588256   \n",
      "stack_level                          1              1              1   \n",
      "can_infer                         True           True           True   \n",
      "fit_order                            9              7             11   \n",
      "\n",
      "                                      9               10              11  \n",
      "model                    RandomForestMSE  KNeighborsUnif  KNeighborsDist  \n",
      "score_test                -119418.725826  -248743.744783  -254918.759061  \n",
      "score_val                  -125917.08207  -250229.202212  -254912.416843  \n",
      "pred_time_test                  0.211748        0.104151         0.10351  \n",
      "pred_time_val                   0.103292        0.103217        0.103235  \n",
      "fit_time                        1.491861        0.007144        0.008203  \n",
      "pred_time_test_marginal         0.211748        0.104151         0.10351  \n",
      "pred_time_val_marginal          0.103292        0.103217        0.103235  \n",
      "fit_time_marginal               1.491861        0.007144        0.008203  \n",
      "stack_level                            1               1               1  \n",
      "can_infer                           True            True            True  \n",
      "fit_order                              5               1               2  \n"
     ]
    }
   ],
   "source": [
    "leaderboard = predictor.leaderboard(test_data)\n",
    "print(leaderboard.T)\n"
   ]
  },
  {
   "cell_type": "code",
   "execution_count": 8,
   "id": "5d8174d6-940b-4f76-b7d9-43ac0bf9de46",
   "metadata": {
    "tags": []
   },
   "outputs": [
    {
     "name": "stdout",
     "output_type": "stream",
     "text": [
      "103514.30011688826\n"
     ]
    }
   ],
   "source": [
    "import numpy as np\n",
    "from sklearn.metrics import mean_squared_error\n",
    "predictions = predictor.predict(test_data)\n",
    "rmse = np.sqrt(mean_squared_error(predictions, test_data['Price']))\n",
    "print(rmse)\n"
   ]
  },
  {
   "cell_type": "code",
   "execution_count": 9,
   "id": "2287deb5-f53a-4698-a6ae-79e34798ee10",
   "metadata": {
    "tags": []
   },
   "outputs": [
    {
     "name": "stdout",
     "output_type": "stream",
     "text": [
      "{'path': 'use_price_models/', 'label': 'Price', 'random_state': 0, 'version': '0.6.2', 'features': ['Avg. Area Income', 'Avg. Area House Age', 'Avg. Area Number of Rooms', 'Avg. Area Number of Bedrooms', 'Area Population'], 'feature_metadata_in': <autogluon.common.features.feature_metadata.FeatureMetadata object at 0x7fec440dc4d0>, 'time_fit_preprocessing': 0.05501079559326172, 'time_fit_training': 20.900819778442383, 'time_fit_total': 20.955830574035645, 'time_limit': 60, 'time_train_start': 1708199419.1689484, 'num_rows_train': 3750, 'num_cols_train': 5, 'num_classes': None, 'problem_type': 'regression', 'eval_metric': 'root_mean_squared_error', 'best_model': 'WeightedEnsemble_L2', 'best_model_score_val': -101749.28880236679, 'best_model_stack_level': 2, 'num_models_trained': 12, 'num_bag_folds': 0, 'max_stack_level': 2, 'max_core_stack_level': 1, 'model_info': {'KNeighborsUnif': {'name': 'KNeighborsUnif', 'model_type': 'KNNModel', 'problem_type': 'regression', 'eval_metric': 'root_mean_squared_error', 'stopping_metric': 'root_mean_squared_error', 'fit_time': 0.00714421272277832, 'num_classes': None, 'quantile_levels': None, 'predict_time': 0.10321736335754395, 'val_score': -250229.20221246098, 'hyperparameters': {'weights': 'uniform'}, 'hyperparameters_fit': {}, 'hyperparameters_nondefault': ['weights'], 'ag_args_fit': {'max_memory_usage_ratio': 1.0, 'max_time_limit_ratio': 1.0, 'max_time_limit': None, 'min_time_limit': 0, 'valid_raw_types': ['int', 'float'], 'valid_special_types': None, 'ignored_type_group_special': ['bool'], 'ignored_type_group_raw': None, 'get_features_kwargs': None, 'get_features_kwargs_extra': None, 'predict_1_batch_size': None, 'temperature_scalar': None}, 'num_features': 5, 'features': ['Avg. Area Income', 'Avg. Area House Age', 'Avg. Area Number of Rooms', 'Avg. Area Number of Bedrooms', 'Area Population'], 'feature_metadata': <autogluon.common.features.feature_metadata.FeatureMetadata object at 0x7fec3fe0ac10>, 'memory_size': 264072, 'compile_time': None}, 'KNeighborsDist': {'name': 'KNeighborsDist', 'model_type': 'KNNModel', 'problem_type': 'regression', 'eval_metric': 'root_mean_squared_error', 'stopping_metric': 'root_mean_squared_error', 'fit_time': 0.008202791213989258, 'num_classes': None, 'quantile_levels': None, 'predict_time': 0.10323452949523926, 'val_score': -254912.4168427903, 'hyperparameters': {'weights': 'distance'}, 'hyperparameters_fit': {}, 'hyperparameters_nondefault': ['weights'], 'ag_args_fit': {'max_memory_usage_ratio': 1.0, 'max_time_limit_ratio': 1.0, 'max_time_limit': None, 'min_time_limit': 0, 'valid_raw_types': ['int', 'float'], 'valid_special_types': None, 'ignored_type_group_special': ['bool'], 'ignored_type_group_raw': None, 'get_features_kwargs': None, 'get_features_kwargs_extra': None, 'predict_1_batch_size': None, 'temperature_scalar': None}, 'num_features': 5, 'features': ['Avg. Area Income', 'Avg. Area House Age', 'Avg. Area Number of Rooms', 'Avg. Area Number of Bedrooms', 'Area Population'], 'feature_metadata': <autogluon.common.features.feature_metadata.FeatureMetadata object at 0x7fec3fef7e10>, 'memory_size': 264072, 'compile_time': None}, 'LightGBMXT': {'name': 'LightGBMXT', 'model_type': 'LGBModel', 'problem_type': 'regression', 'eval_metric': 'root_mean_squared_error', 'stopping_metric': 'root_mean_squared_error', 'fit_time': 0.6430187225341797, 'num_classes': None, 'quantile_levels': None, 'predict_time': 0.0074388980865478516, 'val_score': -109948.86823690873, 'hyperparameters': {'learning_rate': 0.05, 'extra_trees': True}, 'hyperparameters_fit': {'num_boost_round': 291}, 'hyperparameters_nondefault': ['extra_trees'], 'ag_args_fit': {'max_memory_usage_ratio': 1.0, 'max_time_limit_ratio': 1.0, 'max_time_limit': None, 'min_time_limit': 0, 'valid_raw_types': ['bool', 'int', 'float', 'category'], 'valid_special_types': None, 'ignored_type_group_special': None, 'ignored_type_group_raw': None, 'get_features_kwargs': None, 'get_features_kwargs_extra': None, 'predict_1_batch_size': None, 'temperature_scalar': None}, 'num_features': 5, 'features': ['Avg. Area Income', 'Avg. Area House Age', 'Avg. Area Number of Rooms', 'Avg. Area Number of Bedrooms', 'Area Population'], 'feature_metadata': <autogluon.common.features.feature_metadata.FeatureMetadata object at 0x7fec44120cd0>, 'memory_size': 792717, 'compile_time': None}, 'LightGBM': {'name': 'LightGBM', 'model_type': 'LGBModel', 'problem_type': 'regression', 'eval_metric': 'root_mean_squared_error', 'stopping_metric': 'root_mean_squared_error', 'fit_time': 0.494140625, 'num_classes': None, 'quantile_levels': None, 'predict_time': 0.005432844161987305, 'val_score': -115903.53501102388, 'hyperparameters': {'learning_rate': 0.05}, 'hyperparameters_fit': {'num_boost_round': 169}, 'hyperparameters_nondefault': [], 'ag_args_fit': {'max_memory_usage_ratio': 1.0, 'max_time_limit_ratio': 1.0, 'max_time_limit': None, 'min_time_limit': 0, 'valid_raw_types': ['bool', 'int', 'float', 'category'], 'valid_special_types': None, 'ignored_type_group_special': None, 'ignored_type_group_raw': None, 'get_features_kwargs': None, 'get_features_kwargs_extra': None, 'predict_1_batch_size': None, 'temperature_scalar': None}, 'num_features': 5, 'features': ['Avg. Area Income', 'Avg. Area House Age', 'Avg. Area Number of Rooms', 'Avg. Area Number of Bedrooms', 'Area Population'], 'feature_metadata': <autogluon.common.features.feature_metadata.FeatureMetadata object at 0x7fec3fe61f90>, 'memory_size': 469342, 'compile_time': None}, 'RandomForestMSE': {'name': 'RandomForestMSE', 'model_type': 'RFModel', 'problem_type': 'regression', 'eval_metric': 'root_mean_squared_error', 'stopping_metric': 'root_mean_squared_error', 'fit_time': 1.49186110496521, 'num_classes': None, 'quantile_levels': None, 'predict_time': 0.10329198837280273, 'val_score': -125917.08207014977, 'hyperparameters': {'n_estimators': 300, 'max_leaf_nodes': 15000, 'n_jobs': -1, 'random_state': 0, 'bootstrap': True, 'criterion': 'squared_error'}, 'hyperparameters_fit': {'n_estimators': 300}, 'hyperparameters_nondefault': ['criterion'], 'ag_args_fit': {'max_memory_usage_ratio': 1.0, 'max_time_limit_ratio': 1.0, 'max_time_limit': None, 'min_time_limit': 0, 'valid_raw_types': ['bool', 'int', 'float', 'category'], 'valid_special_types': None, 'ignored_type_group_special': None, 'ignored_type_group_raw': None, 'get_features_kwargs': None, 'get_features_kwargs_extra': None, 'predict_1_batch_size': None, 'temperature_scalar': None}, 'num_features': 5, 'features': ['Avg. Area Income', 'Avg. Area House Age', 'Avg. Area Number of Rooms', 'Avg. Area Number of Bedrooms', 'Area Population'], 'feature_metadata': <autogluon.common.features.feature_metadata.FeatureMetadata object at 0x7fec5de81f10>, 'memory_size': 78978817, 'compile_time': None}, 'CatBoost': {'name': 'CatBoost', 'model_type': 'CatBoostModel', 'problem_type': 'regression', 'eval_metric': 'root_mean_squared_error', 'stopping_metric': 'root_mean_squared_error', 'fit_time': 0.9933412075042725, 'num_classes': None, 'quantile_levels': None, 'predict_time': 0.0018241405487060547, 'val_score': -108228.07701249023, 'hyperparameters': {'iterations': 10000, 'learning_rate': 0.05, 'random_seed': 0, 'allow_writing_files': False, 'eval_metric': 'RMSE'}, 'hyperparameters_fit': {'iterations': 277}, 'hyperparameters_nondefault': [], 'ag_args_fit': {'max_memory_usage_ratio': 1.0, 'max_time_limit_ratio': 1.0, 'max_time_limit': None, 'min_time_limit': 0, 'valid_raw_types': ['bool', 'int', 'float', 'category'], 'valid_special_types': None, 'ignored_type_group_special': None, 'ignored_type_group_raw': None, 'get_features_kwargs': None, 'get_features_kwargs_extra': None, 'predict_1_batch_size': None, 'temperature_scalar': None}, 'num_features': 5, 'features': ['Avg. Area Income', 'Avg. Area House Age', 'Avg. Area Number of Rooms', 'Avg. Area Number of Bedrooms', 'Area Population'], 'feature_metadata': <autogluon.common.features.feature_metadata.FeatureMetadata object at 0x7fec5de75c50>, 'memory_size': 310839, 'compile_time': None}, 'ExtraTreesMSE': {'name': 'ExtraTreesMSE', 'model_type': 'XTModel', 'problem_type': 'regression', 'eval_metric': 'root_mean_squared_error', 'stopping_metric': 'root_mean_squared_error', 'fit_time': 0.8927040100097656, 'num_classes': None, 'quantile_levels': None, 'predict_time': 0.1037147045135498, 'val_score': -120305.85752461872, 'hyperparameters': {'n_estimators': 300, 'max_leaf_nodes': 15000, 'n_jobs': -1, 'random_state': 0, 'bootstrap': True, 'criterion': 'squared_error'}, 'hyperparameters_fit': {'n_estimators': 300}, 'hyperparameters_nondefault': ['criterion'], 'ag_args_fit': {'max_memory_usage_ratio': 1.0, 'max_time_limit_ratio': 1.0, 'max_time_limit': None, 'min_time_limit': 0, 'valid_raw_types': ['bool', 'int', 'float', 'category'], 'valid_special_types': None, 'ignored_type_group_special': None, 'ignored_type_group_raw': None, 'get_features_kwargs': None, 'get_features_kwargs_extra': None, 'predict_1_batch_size': None, 'temperature_scalar': None}, 'num_features': 5, 'features': ['Avg. Area Income', 'Avg. Area House Age', 'Avg. Area Number of Rooms', 'Avg. Area Number of Bedrooms', 'Area Population'], 'feature_metadata': <autogluon.common.features.feature_metadata.FeatureMetadata object at 0x7fec5de81cd0>, 'memory_size': 78978904, 'compile_time': None}, 'NeuralNetFastAI': {'name': 'NeuralNetFastAI', 'model_type': 'NNFastAiTabularModel', 'problem_type': 'regression', 'eval_metric': 'root_mean_squared_error', 'stopping_metric': 'root_mean_squared_error', 'fit_time': 3.5582480430603027, 'num_classes': None, 'quantile_levels': None, 'predict_time': 0.01375269889831543, 'val_score': -103120.11408724946, 'hyperparameters': {'layers': None, 'emb_drop': 0.1, 'ps': 0.1, 'bs': 'auto', 'lr': 0.01, 'epochs': 'auto', 'early.stopping.min_delta': 0.0001, 'early.stopping.patience': 20, 'smoothing': 0.0}, 'hyperparameters_fit': {'epochs': 30, 'best_epoch': 4}, 'hyperparameters_nondefault': [], 'ag_args_fit': {'max_memory_usage_ratio': 1.0, 'max_time_limit_ratio': 1.0, 'max_time_limit': None, 'min_time_limit': 0, 'valid_raw_types': ['bool', 'int', 'float', 'category'], 'valid_special_types': None, 'ignored_type_group_special': ['text_ngram', 'text_as_category'], 'ignored_type_group_raw': None, 'get_features_kwargs': None, 'get_features_kwargs_extra': None, 'predict_1_batch_size': None, 'temperature_scalar': None}, 'num_features': 5, 'features': ['Avg. Area Income', 'Avg. Area House Age', 'Avg. Area Number of Rooms', 'Avg. Area Number of Bedrooms', 'Area Population'], 'feature_metadata': <autogluon.common.features.feature_metadata.FeatureMetadata object at 0x7fec44054850>, 'memory_size': 130521, 'compile_time': None}, 'XGBoost': {'name': 'XGBoost', 'model_type': 'XGBoostModel', 'problem_type': 'regression', 'eval_metric': 'root_mean_squared_error', 'stopping_metric': 'root_mean_squared_error', 'fit_time': 3.0050387382507324, 'num_classes': None, 'quantile_levels': None, 'predict_time': 0.015387535095214844, 'val_score': -115510.67933401237, 'hyperparameters': {'n_estimators': 10000, 'learning_rate': 0.1, 'n_jobs': -1, 'proc.max_category_levels': 100, 'objective': 'reg:squarederror', 'booster': 'gbtree'}, 'hyperparameters_fit': {'n_estimators': 81}, 'hyperparameters_nondefault': [], 'ag_args_fit': {'max_memory_usage_ratio': 1.0, 'max_time_limit_ratio': 1.0, 'max_time_limit': None, 'min_time_limit': 0, 'valid_raw_types': ['bool', 'int', 'float', 'category'], 'valid_special_types': None, 'ignored_type_group_special': None, 'ignored_type_group_raw': None, 'get_features_kwargs': None, 'get_features_kwargs_extra': None, 'predict_1_batch_size': None, 'temperature_scalar': None}, 'num_features': 5, 'features': ['Avg. Area Income', 'Avg. Area House Age', 'Avg. Area Number of Rooms', 'Avg. Area Number of Bedrooms', 'Area Population'], 'feature_metadata': <autogluon.common.features.feature_metadata.FeatureMetadata object at 0x7fec440b27d0>, 'memory_size': 1493503, 'compile_time': None}, 'NeuralNetTorch': {'name': 'NeuralNetTorch', 'model_type': 'TabularNeuralNetTorchModel', 'problem_type': 'regression', 'eval_metric': 'root_mean_squared_error', 'stopping_metric': 'root_mean_squared_error', 'fit_time': 6.575495958328247, 'num_classes': None, 'quantile_levels': None, 'predict_time': 0.0056912899017333984, 'val_score': -104826.30113948647, 'hyperparameters': {'num_epochs': 500, 'epochs_wo_improve': 20, 'activation': 'relu', 'embedding_size_factor': 1.0, 'embed_exponent': 0.56, 'max_embedding_dim': 100, 'y_range': None, 'y_range_extend': 0.05, 'dropout_prob': 0.1, 'optimizer': 'adam', 'learning_rate': 0.0003, 'weight_decay': 1e-06, 'proc.embed_min_categories': 4, 'proc.impute_strategy': 'median', 'proc.max_category_levels': 100, 'proc.skew_threshold': 0.99, 'use_ngram_features': False, 'num_layers': 4, 'hidden_size': 128, 'max_batch_size': 512, 'use_batchnorm': False, 'loss_function': 'auto'}, 'hyperparameters_fit': {'batch_size': 64, 'num_epochs': 26}, 'hyperparameters_nondefault': [], 'ag_args_fit': {'max_memory_usage_ratio': 1.0, 'max_time_limit_ratio': 1.0, 'max_time_limit': None, 'min_time_limit': 0, 'valid_raw_types': ['bool', 'int', 'float', 'category'], 'valid_special_types': None, 'ignored_type_group_special': ['text_ngram', 'text_as_category'], 'ignored_type_group_raw': None, 'get_features_kwargs': None, 'get_features_kwargs_extra': None, 'predict_1_batch_size': None, 'temperature_scalar': None}, 'num_features': 5, 'features': ['Avg. Area Income', 'Avg. Area House Age', 'Avg. Area Number of Rooms', 'Avg. Area Number of Bedrooms', 'Area Population'], 'feature_metadata': <autogluon.common.features.feature_metadata.FeatureMetadata object at 0x7fec440ac6d0>, 'memory_size': 211793, 'compile_time': None}, 'LightGBMLarge': {'name': 'LightGBMLarge', 'model_type': 'LGBModel', 'problem_type': 'regression', 'eval_metric': 'root_mean_squared_error', 'stopping_metric': 'root_mean_squared_error', 'fit_time': 1.5882556438446045, 'num_classes': None, 'quantile_levels': None, 'predict_time': 0.00774693489074707, 'val_score': -121722.31349213427, 'hyperparameters': {'learning_rate': 0.03, 'num_leaves': 128, 'feature_fraction': 0.9, 'min_data_in_leaf': 5}, 'hyperparameters_fit': {'num_boost_round': 222}, 'hyperparameters_nondefault': ['learning_rate', 'num_leaves', 'feature_fraction', 'min_data_in_leaf'], 'ag_args_fit': {'max_memory_usage_ratio': 1.0, 'max_time_limit_ratio': 1.0, 'max_time_limit': None, 'min_time_limit': 0, 'valid_raw_types': ['bool', 'int', 'float', 'category'], 'valid_special_types': None, 'ignored_type_group_special': None, 'ignored_type_group_raw': None, 'get_features_kwargs': None, 'get_features_kwargs_extra': None, 'predict_1_batch_size': None, 'temperature_scalar': None}, 'num_features': 5, 'features': ['Avg. Area Income', 'Avg. Area House Age', 'Avg. Area Number of Rooms', 'Avg. Area Number of Bedrooms', 'Area Population'], 'feature_metadata': <autogluon.common.features.feature_metadata.FeatureMetadata object at 0x7fec4407af10>, 'memory_size': 2663820, 'compile_time': None}, 'WeightedEnsemble_L2': {'name': 'WeightedEnsemble_L2', 'model_type': 'WeightedEnsembleModel', 'problem_type': 'regression', 'eval_metric': 'root_mean_squared_error', 'stopping_metric': 'root_mean_squared_error', 'fit_time': 0.37957072257995605, 'num_classes': None, 'quantile_levels': None, 'predict_time': 0.0006344318389892578, 'val_score': -101749.28880236679, 'hyperparameters': {'use_orig_features': False, 'max_base_models': 25, 'max_base_models_per_type': 5, 'save_bag_folds': True}, 'hyperparameters_fit': {}, 'hyperparameters_nondefault': ['save_bag_folds'], 'ag_args_fit': {'max_memory_usage_ratio': 1.0, 'max_time_limit_ratio': 1.0, 'max_time_limit': None, 'min_time_limit': 0, 'valid_raw_types': None, 'valid_special_types': None, 'ignored_type_group_special': None, 'ignored_type_group_raw': None, 'get_features_kwargs': None, 'get_features_kwargs_extra': None, 'predict_1_batch_size': None, 'temperature_scalar': None, 'drop_unique': False}, 'num_features': 6, 'features': ['CatBoost', 'KNeighborsDist', 'LightGBMXT', 'XGBoost', 'NeuralNetTorch', 'NeuralNetFastAI'], 'feature_metadata': <autogluon.common.features.feature_metadata.FeatureMetadata object at 0x7fec3fe52490>, 'memory_size': 4042, 'compile_time': None, 'bagged_info': {'child_model_type': 'GreedyWeightedEnsembleModel', 'num_child_models': 1, 'child_model_names': ['S1F1'], '_n_repeats': 1, '_k_per_n_repeat': [1], '_random_state': 2, 'low_memory': False, 'bagged_mode': False, 'max_memory_size': 4042, 'min_memory_size': 4042, 'child_hyperparameters': {'ensemble_size': 100}, 'child_hyperparameters_fit': {'ensemble_size': 84}, 'child_ag_args_fit': {'max_memory_usage_ratio': 1.0, 'max_time_limit_ratio': 1.0, 'max_time_limit': None, 'min_time_limit': 0, 'valid_raw_types': None, 'valid_special_types': None, 'ignored_type_group_special': None, 'ignored_type_group_raw': None, 'get_features_kwargs': None, 'get_features_kwargs_extra': None, 'predict_1_batch_size': None, 'temperature_scalar': None, 'drop_unique': False}}, 'stacker_info': {'num_base_models': 6, 'base_model_names': ['KNeighborsDist', 'LightGBMXT', 'CatBoost', 'NeuralNetFastAI', 'XGBoost', 'NeuralNetTorch']}, 'children_info': {'S1F1': {'name': 'S1F1', 'model_type': 'GreedyWeightedEnsembleModel', 'problem_type': 'regression', 'eval_metric': 'root_mean_squared_error', 'stopping_metric': 'root_mean_squared_error', 'fit_time': 0.37957072257995605, 'num_classes': None, 'quantile_levels': None, 'predict_time': None, 'val_score': None, 'hyperparameters': {'ensemble_size': 100}, 'hyperparameters_fit': {'ensemble_size': 84}, 'hyperparameters_nondefault': [], 'ag_args_fit': {'max_memory_usage_ratio': 1.0, 'max_time_limit_ratio': 1.0, 'max_time_limit': None, 'min_time_limit': 0, 'valid_raw_types': None, 'valid_special_types': None, 'ignored_type_group_special': None, 'ignored_type_group_raw': None, 'get_features_kwargs': None, 'get_features_kwargs_extra': None, 'predict_1_batch_size': None, 'temperature_scalar': None, 'drop_unique': False}, 'num_features': 6, 'features': ['KNeighborsDist', 'LightGBMXT', 'CatBoost', 'NeuralNetFastAI', 'XGBoost', 'NeuralNetTorch'], 'feature_metadata': <autogluon.common.features.feature_metadata.FeatureMetadata object at 0x7fec4403b4d0>, 'memory_size': 8714, 'compile_time': None, 'model_weights': {'KNeighborsDist': 0.03571428571428571, 'LightGBMXT': 0.11904761904761904, 'CatBoost': 0.011904761904761904, 'NeuralNetFastAI': 0.7261904761904762, 'XGBoost': 0.05952380952380952, 'NeuralNetTorch': 0.047619047619047616}}}}}}\n"
     ]
    }
   ],
   "source": [
    "print(predictor.info())"
   ]
  },
  {
   "cell_type": "code",
   "execution_count": 10,
   "id": "e159d4f3-91c6-4d2e-a853-a2b5699412f2",
   "metadata": {
    "tags": []
   },
   "outputs": [
    {
     "name": "stderr",
     "output_type": "stream",
     "text": [
      "Computing feature importance via permutation shuffling for 5 features using 3750 rows with 5 shuffle sets...\n",
      "\t8.11s\t= Expected runtime (1.62s per shuffle set)\n",
      "\t3.84s\t= Actual runtime (Completed 5 of 5 shuffle sets)\n"
     ]
    },
    {
     "data": {
      "text/html": [
       "<div>\n",
       "<style scoped>\n",
       "    .dataframe tbody tr th:only-of-type {\n",
       "        vertical-align: middle;\n",
       "    }\n",
       "\n",
       "    .dataframe tbody tr th {\n",
       "        vertical-align: top;\n",
       "    }\n",
       "\n",
       "    .dataframe thead th {\n",
       "        text-align: right;\n",
       "    }\n",
       "</style>\n",
       "<table border=\"1\" class=\"dataframe\">\n",
       "  <thead>\n",
       "    <tr style=\"text-align: right;\">\n",
       "      <th></th>\n",
       "      <th>importance</th>\n",
       "      <th>stddev</th>\n",
       "      <th>p_value</th>\n",
       "      <th>n</th>\n",
       "      <th>p99_high</th>\n",
       "      <th>p99_low</th>\n",
       "    </tr>\n",
       "  </thead>\n",
       "  <tbody>\n",
       "    <tr>\n",
       "      <th>Avg. Area Income</th>\n",
       "      <td>250274.785820</td>\n",
       "      <td>3386.699742</td>\n",
       "      <td>4.022663e-09</td>\n",
       "      <td>5</td>\n",
       "      <td>257248.047398</td>\n",
       "      <td>243301.524242</td>\n",
       "    </tr>\n",
       "    <tr>\n",
       "      <th>Avg. Area House Age</th>\n",
       "      <td>153069.357191</td>\n",
       "      <td>2518.554421</td>\n",
       "      <td>8.791780e-09</td>\n",
       "      <td>5</td>\n",
       "      <td>158255.095554</td>\n",
       "      <td>147883.618827</td>\n",
       "    </tr>\n",
       "    <tr>\n",
       "      <th>Area Population</th>\n",
       "      <td>147823.935002</td>\n",
       "      <td>1249.665716</td>\n",
       "      <td>6.128247e-10</td>\n",
       "      <td>5</td>\n",
       "      <td>150397.013983</td>\n",
       "      <td>145250.856020</td>\n",
       "    </tr>\n",
       "    <tr>\n",
       "      <th>Avg. Area Number of Rooms</th>\n",
       "      <td>104804.119199</td>\n",
       "      <td>2263.457000</td>\n",
       "      <td>2.609076e-08</td>\n",
       "      <td>5</td>\n",
       "      <td>109464.608445</td>\n",
       "      <td>100143.629952</td>\n",
       "    </tr>\n",
       "    <tr>\n",
       "      <th>Avg. Area Number of Bedrooms</th>\n",
       "      <td>1742.607493</td>\n",
       "      <td>174.053587</td>\n",
       "      <td>1.178583e-05</td>\n",
       "      <td>5</td>\n",
       "      <td>2100.986234</td>\n",
       "      <td>1384.228753</td>\n",
       "    </tr>\n",
       "  </tbody>\n",
       "</table>\n",
       "</div>"
      ],
      "text/plain": [
       "                                 importance       stddev       p_value  n  \\\n",
       "Avg. Area Income              250274.785820  3386.699742  4.022663e-09  5   \n",
       "Avg. Area House Age           153069.357191  2518.554421  8.791780e-09  5   \n",
       "Area Population               147823.935002  1249.665716  6.128247e-10  5   \n",
       "Avg. Area Number of Rooms     104804.119199  2263.457000  2.609076e-08  5   \n",
       "Avg. Area Number of Bedrooms    1742.607493   174.053587  1.178583e-05  5   \n",
       "\n",
       "                                   p99_high        p99_low  \n",
       "Avg. Area Income              257248.047398  243301.524242  \n",
       "Avg. Area House Age           158255.095554  147883.618827  \n",
       "Area Population               150397.013983  145250.856020  \n",
       "Avg. Area Number of Rooms     109464.608445  100143.629952  \n",
       "Avg. Area Number of Bedrooms    2100.986234    1384.228753  "
      ]
     },
     "execution_count": 10,
     "metadata": {},
     "output_type": "execute_result"
    }
   ],
   "source": [
    "predictor.feature_importance(data=train_data)"
   ]
  },
  {
   "cell_type": "code",
   "execution_count": 11,
   "id": "51f48d5d-7011-43c5-bb55-41d19c86bb11",
   "metadata": {
    "tags": []
   },
   "outputs": [
    {
     "name": "stderr",
     "output_type": "stream",
     "text": [
      "Warning: path already exists! This predictor may overwrite an existing predictor! path=\"petrol_consumption_models\"\n",
      "Beginning AutoGluon training ... Time limit = 60s\n",
      "AutoGluon will save models to \"petrol_consumption_models/\"\n",
      "AutoGluon Version:  0.6.2\n",
      "Python Version:     3.7.12\n",
      "Operating System:   Linux\n",
      "Platform Machine:   x86_64\n",
      "Platform Version:   #1 SMP Fri Jan 12 09:58:17 UTC 2024\n",
      "Train Data Rows:    36\n",
      "Train Data Columns: 4\n",
      "Label Column: Petrol_Consumption\n",
      "Preprocessing data ...\n",
      "AutoGluon infers your prediction problem is: 'regression' (because dtype of label-column == int and many unique label-values observed).\n",
      "\tLabel info (max, min, mean, stddev): (782, 410, 568.25, 85.08126)\n",
      "\tIf 'regression' is not the correct problem_type, please manually specify the problem_type parameter during predictor init (You may specify problem_type as one of: ['binary', 'multiclass', 'regression'])\n",
      "Using Feature Generators to preprocess the data ...\n",
      "Fitting AutoMLPipelineFeatureGenerator...\n",
      "\tAvailable Memory:                    12984.81 MB\n",
      "\tTrain Data (Original)  Memory Usage: 0.0 MB (0.0% of available memory)\n",
      "\tInferring data type of each feature based on column values. Set feature_metadata_in to manually specify special dtypes of the features.\n",
      "\tStage 1 Generators:\n",
      "\t\tFitting AsTypeFeatureGenerator...\n",
      "\tStage 2 Generators:\n",
      "\t\tFitting FillNaFeatureGenerator...\n",
      "\tStage 3 Generators:\n",
      "\t\tFitting IdentityFeatureGenerator...\n",
      "\tStage 4 Generators:\n",
      "\t\tFitting DropUniqueFeatureGenerator...\n",
      "\tTypes of features in original data (raw dtype, special dtypes):\n",
      "\t\t('float', []) : 2 | ['Petrol_tax', 'Population_Driver_licence(%)']\n",
      "\t\t('int', [])   : 2 | ['Average_income', 'Paved_Highways']\n",
      "\tTypes of features in processed data (raw dtype, special dtypes):\n",
      "\t\t('float', []) : 2 | ['Petrol_tax', 'Population_Driver_licence(%)']\n",
      "\t\t('int', [])   : 2 | ['Average_income', 'Paved_Highways']\n",
      "\t0.0s = Fit runtime\n",
      "\t4 features in original data used to generate 4 features in processed data.\n",
      "\tTrain Data (Processed) Memory Usage: 0.0 MB (0.0% of available memory)\n",
      "Data preprocessing and feature engineering runtime = 0.06s ...\n",
      "AutoGluon will gauge predictive performance using evaluation metric: 'root_mean_squared_error'\n",
      "\tThis metric's sign has been flipped to adhere to being higher_is_better. The metric score can be multiplied by -1 to get the metric value.\n",
      "\tTo change this, specify the eval_metric parameter of Predictor()\n",
      "Automatically generating train/validation split with holdout_frac=0.2, Train Rows: 28, Val Rows: 8\n",
      "Fitting 11 L1 models ...\n",
      "Fitting model: KNeighborsUnif ... Training model for up to 59.94s of the 59.93s of remaining time.\n",
      "\t-44.3242\t = Validation score   (-root_mean_squared_error)\n",
      "\t0.01s\t = Training   runtime\n",
      "\t0.1s\t = Validation runtime\n"
     ]
    },
    {
     "name": "stdout",
     "output_type": "stream",
     "text": [
      "    Petrol_tax  Average_income  Paved_Highways  Population_Driver_licence(%)  \\\n",
      "0         9.00            3571            1976                         0.525   \n",
      "1         9.00            4092            1250                         0.572   \n",
      "2         9.00            3865            1586                         0.580   \n",
      "3         7.50            4870            2351                         0.529   \n",
      "4         8.00            4399             431                         0.544   \n",
      "5        10.00            5342            1333                         0.571   \n",
      "6         8.00            5319           11868                         0.451   \n",
      "7         8.00            5126            2138                         0.553   \n",
      "8         8.00            4447            8577                         0.529   \n",
      "9         7.00            4512            8507                         0.552   \n",
      "10        8.00            4391            5939                         0.530   \n",
      "11        7.50            5126           14186                         0.525   \n",
      "12        7.00            4817            6930                         0.574   \n",
      "13        7.00            4207            6580                         0.545   \n",
      "14        7.00            4332            8159                         0.608   \n",
      "15        7.00            4318           10340                         0.586   \n",
      "16        7.00            4206            8508                         0.572   \n",
      "17        7.00            3718            4725                         0.540   \n",
      "18        7.00            4716            5915                         0.724   \n",
      "19        8.50            4341            6010                         0.677   \n",
      "20        7.00            4593            7834                         0.663   \n",
      "21        8.00            4983             602                         0.602   \n",
      "22        9.00            4897            2449                         0.511   \n",
      "23        9.00            4258            4686                         0.517   \n",
      "24        8.50            4574            2619                         0.551   \n",
      "25        9.00            3721            4746                         0.544   \n",
      "26        8.00            3448            5399                         0.548   \n",
      "27        7.50            3846            9061                         0.579   \n",
      "28        8.00            4188            5975                         0.563   \n",
      "29        9.00            3601            4650                         0.493   \n",
      "30        7.00            3640            6905                         0.518   \n",
      "31        7.00            3333            6594                         0.513   \n",
      "32        8.00            3063            6524                         0.578   \n",
      "33        7.50            3357            4121                         0.547   \n",
      "34        8.00            3528            3495                         0.487   \n",
      "35        6.58            3802            7834                         0.629   \n",
      "36        5.00            4045           17782                         0.566   \n",
      "37        7.00            3897            6385                         0.586   \n",
      "38        8.50            3635            3274                         0.663   \n",
      "39        7.00            4345            3905                         0.672   \n",
      "40        7.00            4449            4639                         0.626   \n",
      "41        7.00            3656            3985                         0.563   \n",
      "42        7.00            4300            3635                         0.603   \n",
      "43        7.00            3745            2611                         0.508   \n",
      "44        6.00            5215            2302                         0.672   \n",
      "45        9.00            4476            3942                         0.571   \n",
      "46        7.00            4296            4083                         0.623   \n",
      "47        7.00            5002            9794                         0.593   \n",
      "\n",
      "    Petrol_Consumption  \n",
      "0                  541  \n",
      "1                  524  \n",
      "2                  561  \n",
      "3                  414  \n",
      "4                  410  \n",
      "5                  457  \n",
      "6                  344  \n",
      "7                  467  \n",
      "8                  464  \n",
      "9                  498  \n",
      "10                 580  \n",
      "11                 471  \n",
      "12                 525  \n",
      "13                 508  \n",
      "14                 566  \n",
      "15                 635  \n",
      "16                 603  \n",
      "17                 714  \n",
      "18                 865  \n",
      "19                 640  \n",
      "20                 649  \n",
      "21                 540  \n",
      "22                 464  \n",
      "23                 547  \n",
      "24                 460  \n",
      "25                 566  \n",
      "26                 577  \n",
      "27                 631  \n",
      "28                 574  \n",
      "29                 534  \n",
      "30                 571  \n",
      "31                 554  \n",
      "32                 577  \n",
      "33                 628  \n",
      "34                 487  \n",
      "35                 644  \n",
      "36                 640  \n",
      "37                 704  \n",
      "38                 648  \n",
      "39                 968  \n",
      "40                 587  \n",
      "41                 699  \n",
      "42                 632  \n",
      "43                 591  \n",
      "44                 782  \n",
      "45                 510  \n",
      "46                 610  \n",
      "47                 524  \n"
     ]
    },
    {
     "name": "stderr",
     "output_type": "stream",
     "text": [
      "Fitting model: KNeighborsDist ... Training model for up to 59.82s of the 59.82s of remaining time.\n",
      "\t-47.4734\t = Validation score   (-root_mean_squared_error)\n",
      "\t0.01s\t = Training   runtime\n",
      "\t0.1s\t = Validation runtime\n",
      "Fitting model: LightGBMXT ... Training model for up to 59.71s of the 59.7s of remaining time.\n",
      "\t-51.1353\t = Validation score   (-root_mean_squared_error)\n",
      "\t0.17s\t = Training   runtime\n",
      "\t0.0s\t = Validation runtime\n",
      "Fitting model: LightGBM ... Training model for up to 59.53s of the 59.52s of remaining time.\n",
      "\t-51.1353\t = Validation score   (-root_mean_squared_error)\n",
      "\t0.17s\t = Training   runtime\n",
      "\t0.0s\t = Validation runtime\n",
      "Fitting model: RandomForestMSE ... Training model for up to 59.35s of the 59.35s of remaining time.\n",
      "\t-46.3338\t = Validation score   (-root_mean_squared_error)\n",
      "\t0.59s\t = Training   runtime\n",
      "\t0.1s\t = Validation runtime\n",
      "Fitting model: CatBoost ... Training model for up to 58.64s of the 58.64s of remaining time.\n",
      "\t-42.1571\t = Validation score   (-root_mean_squared_error)\n",
      "\t0.12s\t = Training   runtime\n",
      "\t0.0s\t = Validation runtime\n",
      "Fitting model: ExtraTreesMSE ... Training model for up to 58.51s of the 58.51s of remaining time.\n",
      "\t-43.4335\t = Validation score   (-root_mean_squared_error)\n",
      "\t0.49s\t = Training   runtime\n",
      "\t0.1s\t = Validation runtime\n",
      "Fitting model: NeuralNetFastAI ... Training model for up to 57.9s of the 57.9s of remaining time.\n",
      "No improvement since epoch 0: early stopping\n",
      "\t-57.0312\t = Validation score   (-root_mean_squared_error)\n",
      "\t0.21s\t = Training   runtime\n",
      "\t0.01s\t = Validation runtime\n",
      "Fitting model: XGBoost ... Training model for up to 57.67s of the 57.67s of remaining time.\n",
      "\t-42.9426\t = Validation score   (-root_mean_squared_error)\n",
      "\t2.93s\t = Training   runtime\n",
      "\t0.01s\t = Validation runtime\n",
      "Fitting model: NeuralNetTorch ... Training model for up to 54.71s of the 54.71s of remaining time.\n",
      "\t-31.5057\t = Validation score   (-root_mean_squared_error)\n",
      "\t0.47s\t = Training   runtime\n",
      "\t0.01s\t = Validation runtime\n",
      "Fitting model: LightGBMLarge ... Training model for up to 54.23s of the 54.22s of remaining time.\n",
      "\t-43.7022\t = Validation score   (-root_mean_squared_error)\n",
      "\t0.22s\t = Training   runtime\n",
      "\t0.0s\t = Validation runtime\n",
      "Fitting model: WeightedEnsemble_L2 ... Training model for up to 59.94s of the 53.99s of remaining time.\n",
      "\t-28.8927\t = Validation score   (-root_mean_squared_error)\n",
      "\t0.4s\t = Training   runtime\n",
      "\t0.0s\t = Validation runtime\n",
      "AutoGluon training complete, total runtime = 6.43s ... Best model: \"WeightedEnsemble_L2\"\n",
      "TabularPredictor saved. To load, use: predictor = TabularPredictor.load(\"petrol_consumption_models/\")\n",
      "Evaluation: root_mean_squared_error on test data: -134.1981767149814\n",
      "\tNote: Scores are always higher_is_better. This metric score can be multiplied by -1 to get the metric value.\n",
      "Evaluations on test data:\n",
      "{\n",
      "    \"root_mean_squared_error\": -134.1981767149814,\n",
      "    \"mean_squared_error\": -18009.150633625377,\n",
      "    \"mean_absolute_error\": -86.83085632324219,\n",
      "    \"r2\": 0.33413023586257873,\n",
      "    \"pearsonr\": 0.8440462059373827,\n",
      "    \"median_absolute_error\": -44.39703369140625\n",
      "}\n"
     ]
    }
   ],
   "source": [
    "from autogluon.core.metrics import make_scorer\n",
    "from autogluon.tabular import TabularDataset, TabularPredictor\n",
    "from IPython.display import HTML\n",
    "import numpy as np\n",
    "\n",
    "import pandas as pd\n",
    "\n",
    "# Load data from sklearn library.\n",
    "df = pd.read_csv(\"petrol_consumption.csv\")\n",
    "\n",
    "print(df)\n",
    "\n",
    "# Split data.\n",
    "from sklearn.model_selection import train_test_split\n",
    "train_data, test_data = train_test_split(df, test_size=0.25)\n",
    "\n",
    "predictor = TabularPredictor(label='Petrol_Consumption', path=\"petrol_consumption_models\").fit(train_data, time_limit=60)\n",
    "performance = predictor.evaluate(test_data)"
   ]
  },
  {
   "cell_type": "code",
   "execution_count": 12,
   "id": "8f250fa9-40d4-4350-bb35-a7660aa56cf6",
   "metadata": {
    "tags": []
   },
   "outputs": [
    {
     "name": "stdout",
     "output_type": "stream",
     "text": [
      "134.1981767149814\n"
     ]
    }
   ],
   "source": [
    "import numpy as np\n",
    "from sklearn.metrics import mean_squared_error\n",
    "predictions = predictor.predict(test_data)\n",
    "rmse = np.sqrt(mean_squared_error(predictions, test_data['Petrol_Consumption']))\n",
    "print(rmse)\n"
   ]
  },
  {
   "cell_type": "code",
   "execution_count": 13,
   "id": "a8b02fae-d0de-4167-9ffe-3649a28355c6",
   "metadata": {
    "tags": []
   },
   "outputs": [
    {
     "name": "stderr",
     "output_type": "stream",
     "text": [
      "Computing feature importance via permutation shuffling for 4 features using 36 rows with 5 shuffle sets...\n",
      "\t6.46s\t= Expected runtime (1.29s per shuffle set)\n",
      "\t1.67s\t= Actual runtime (Completed 5 of 5 shuffle sets)\n"
     ]
    },
    {
     "data": {
      "text/html": [
       "<div>\n",
       "<style scoped>\n",
       "    .dataframe tbody tr th:only-of-type {\n",
       "        vertical-align: middle;\n",
       "    }\n",
       "\n",
       "    .dataframe tbody tr th {\n",
       "        vertical-align: top;\n",
       "    }\n",
       "\n",
       "    .dataframe thead th {\n",
       "        text-align: right;\n",
       "    }\n",
       "</style>\n",
       "<table border=\"1\" class=\"dataframe\">\n",
       "  <thead>\n",
       "    <tr style=\"text-align: right;\">\n",
       "      <th></th>\n",
       "      <th>importance</th>\n",
       "      <th>stddev</th>\n",
       "      <th>p_value</th>\n",
       "      <th>n</th>\n",
       "      <th>p99_high</th>\n",
       "      <th>p99_low</th>\n",
       "    </tr>\n",
       "  </thead>\n",
       "  <tbody>\n",
       "    <tr>\n",
       "      <th>Average_income</th>\n",
       "      <td>29.066422</td>\n",
       "      <td>6.122631</td>\n",
       "      <td>0.000223</td>\n",
       "      <td>5</td>\n",
       "      <td>41.673004</td>\n",
       "      <td>16.459839</td>\n",
       "    </tr>\n",
       "    <tr>\n",
       "      <th>Population_Driver_licence(%)</th>\n",
       "      <td>18.906363</td>\n",
       "      <td>5.814803</td>\n",
       "      <td>0.000951</td>\n",
       "      <td>5</td>\n",
       "      <td>30.879122</td>\n",
       "      <td>6.933605</td>\n",
       "    </tr>\n",
       "    <tr>\n",
       "      <th>Petrol_tax</th>\n",
       "      <td>17.731911</td>\n",
       "      <td>4.975604</td>\n",
       "      <td>0.000672</td>\n",
       "      <td>5</td>\n",
       "      <td>27.976748</td>\n",
       "      <td>7.487074</td>\n",
       "    </tr>\n",
       "    <tr>\n",
       "      <th>Paved_Highways</th>\n",
       "      <td>17.518070</td>\n",
       "      <td>1.213416</td>\n",
       "      <td>0.000003</td>\n",
       "      <td>5</td>\n",
       "      <td>20.016511</td>\n",
       "      <td>15.019629</td>\n",
       "    </tr>\n",
       "  </tbody>\n",
       "</table>\n",
       "</div>"
      ],
      "text/plain": [
       "                              importance    stddev   p_value  n   p99_high  \\\n",
       "Average_income                 29.066422  6.122631  0.000223  5  41.673004   \n",
       "Population_Driver_licence(%)   18.906363  5.814803  0.000951  5  30.879122   \n",
       "Petrol_tax                     17.731911  4.975604  0.000672  5  27.976748   \n",
       "Paved_Highways                 17.518070  1.213416  0.000003  5  20.016511   \n",
       "\n",
       "                                p99_low  \n",
       "Average_income                16.459839  \n",
       "Population_Driver_licence(%)   6.933605  \n",
       "Petrol_tax                     7.487074  \n",
       "Paved_Highways                15.019629  "
      ]
     },
     "execution_count": 13,
     "metadata": {},
     "output_type": "execute_result"
    }
   ],
   "source": [
    "predictor.feature_importance(data=train_data)"
   ]
  },
  {
   "cell_type": "code",
   "execution_count": 14,
   "id": "b66dded9-1f90-49fb-8885-d73989b80acd",
   "metadata": {
    "tags": []
   },
   "outputs": [
    {
     "data": {
      "text/plain": [
       "'7.0.0'"
      ]
     },
     "execution_count": 14,
     "metadata": {},
     "output_type": "execute_result"
    }
   ],
   "source": [
    "import ipywidgets\n",
    "ipywidgets.__version__"
   ]
  },
  {
   "cell_type": "code",
   "execution_count": 15,
   "id": "cccf56c6-af29-4993-903b-68bd35d4c5b9",
   "metadata": {
    "tags": []
   },
   "outputs": [
    {
     "name": "stdout",
     "output_type": "stream",
     "text": [
      "Requirement already satisfied: ipywidgets==7.0.0 in /home/studio-lab-user/.conda/envs/autogluon_cpu/lib/python3.7/site-packages (7.0.0)\n",
      "Requirement already satisfied: ipykernel>=4.5.1 in /home/studio-lab-user/.conda/envs/autogluon_cpu/lib/python3.7/site-packages (from ipywidgets==7.0.0) (6.16.2)\n",
      "Requirement already satisfied: nbformat>=4.2.0 in /home/studio-lab-user/.conda/envs/autogluon_cpu/lib/python3.7/site-packages (from ipywidgets==7.0.0) (5.8.0)\n",
      "Requirement already satisfied: traitlets>=4.3.1 in /home/studio-lab-user/.conda/envs/autogluon_cpu/lib/python3.7/site-packages (from ipywidgets==7.0.0) (5.9.0)\n",
      "Requirement already satisfied: widgetsnbextension~=3.0.0 in /home/studio-lab-user/.conda/envs/autogluon_cpu/lib/python3.7/site-packages (from ipywidgets==7.0.0) (3.0.8)\n",
      "Requirement already satisfied: ipython>=4.0.0 in /home/studio-lab-user/.conda/envs/autogluon_cpu/lib/python3.7/site-packages (from ipywidgets==7.0.0) (7.33.0)\n",
      "Requirement already satisfied: debugpy>=1.0 in /home/studio-lab-user/.conda/envs/autogluon_cpu/lib/python3.7/site-packages (from ipykernel>=4.5.1->ipywidgets==7.0.0) (1.6.3)\n",
      "Requirement already satisfied: jupyter-client>=6.1.12 in /home/studio-lab-user/.conda/envs/autogluon_cpu/lib/python3.7/site-packages (from ipykernel>=4.5.1->ipywidgets==7.0.0) (7.4.9)\n",
      "Requirement already satisfied: matplotlib-inline>=0.1 in /home/studio-lab-user/.conda/envs/autogluon_cpu/lib/python3.7/site-packages (from ipykernel>=4.5.1->ipywidgets==7.0.0) (0.1.6)\n",
      "Requirement already satisfied: nest-asyncio in /home/studio-lab-user/.conda/envs/autogluon_cpu/lib/python3.7/site-packages (from ipykernel>=4.5.1->ipywidgets==7.0.0) (1.6.0)\n",
      "Requirement already satisfied: packaging in /home/studio-lab-user/.conda/envs/autogluon_cpu/lib/python3.7/site-packages (from ipykernel>=4.5.1->ipywidgets==7.0.0) (23.2)\n",
      "Requirement already satisfied: psutil in /home/studio-lab-user/.conda/envs/autogluon_cpu/lib/python3.7/site-packages (from ipykernel>=4.5.1->ipywidgets==7.0.0) (5.9.3)\n",
      "Requirement already satisfied: pyzmq>=17 in /home/studio-lab-user/.conda/envs/autogluon_cpu/lib/python3.7/site-packages (from ipykernel>=4.5.1->ipywidgets==7.0.0) (24.0.1)\n",
      "Requirement already satisfied: tornado>=6.1 in /home/studio-lab-user/.conda/envs/autogluon_cpu/lib/python3.7/site-packages (from ipykernel>=4.5.1->ipywidgets==7.0.0) (6.2)\n",
      "Requirement already satisfied: setuptools>=18.5 in /home/studio-lab-user/.conda/envs/autogluon_cpu/lib/python3.7/site-packages (from ipython>=4.0.0->ipywidgets==7.0.0) (69.0.3)\n",
      "Requirement already satisfied: jedi>=0.16 in /home/studio-lab-user/.conda/envs/autogluon_cpu/lib/python3.7/site-packages (from ipython>=4.0.0->ipywidgets==7.0.0) (0.19.1)\n",
      "Requirement already satisfied: decorator in /home/studio-lab-user/.conda/envs/autogluon_cpu/lib/python3.7/site-packages (from ipython>=4.0.0->ipywidgets==7.0.0) (5.1.1)\n",
      "Requirement already satisfied: pickleshare in /home/studio-lab-user/.conda/envs/autogluon_cpu/lib/python3.7/site-packages (from ipython>=4.0.0->ipywidgets==7.0.0) (0.7.5)\n",
      "Requirement already satisfied: prompt-toolkit!=3.0.0,!=3.0.1,<3.1.0,>=2.0.0 in /home/studio-lab-user/.conda/envs/autogluon_cpu/lib/python3.7/site-packages (from ipython>=4.0.0->ipywidgets==7.0.0) (3.0.42)\n",
      "Requirement already satisfied: pygments in /home/studio-lab-user/.conda/envs/autogluon_cpu/lib/python3.7/site-packages (from ipython>=4.0.0->ipywidgets==7.0.0) (2.17.2)\n",
      "Requirement already satisfied: backcall in /home/studio-lab-user/.conda/envs/autogluon_cpu/lib/python3.7/site-packages (from ipython>=4.0.0->ipywidgets==7.0.0) (0.2.0)\n",
      "Requirement already satisfied: pexpect>4.3 in /home/studio-lab-user/.conda/envs/autogluon_cpu/lib/python3.7/site-packages (from ipython>=4.0.0->ipywidgets==7.0.0) (4.9.0)\n",
      "Requirement already satisfied: fastjsonschema in /home/studio-lab-user/.conda/envs/autogluon_cpu/lib/python3.7/site-packages (from nbformat>=4.2.0->ipywidgets==7.0.0) (2.19.1)\n",
      "Requirement already satisfied: importlib-metadata>=3.6 in /home/studio-lab-user/.conda/envs/autogluon_cpu/lib/python3.7/site-packages (from nbformat>=4.2.0->ipywidgets==7.0.0) (6.7.0)\n",
      "Requirement already satisfied: jsonschema>=2.6 in /home/studio-lab-user/.conda/envs/autogluon_cpu/lib/python3.7/site-packages (from nbformat>=4.2.0->ipywidgets==7.0.0) (4.8.0)\n",
      "Requirement already satisfied: jupyter-core in /home/studio-lab-user/.conda/envs/autogluon_cpu/lib/python3.7/site-packages (from nbformat>=4.2.0->ipywidgets==7.0.0) (4.12.0)\n",
      "Requirement already satisfied: notebook>=4.4.1 in /home/studio-lab-user/.conda/envs/autogluon_cpu/lib/python3.7/site-packages (from widgetsnbextension~=3.0.0->ipywidgets==7.0.0) (6.5.6)\n",
      "Requirement already satisfied: zipp>=0.5 in /home/studio-lab-user/.conda/envs/autogluon_cpu/lib/python3.7/site-packages (from importlib-metadata>=3.6->nbformat>=4.2.0->ipywidgets==7.0.0) (3.15.0)\n",
      "Requirement already satisfied: typing-extensions>=3.6.4 in /home/studio-lab-user/.conda/envs/autogluon_cpu/lib/python3.7/site-packages (from importlib-metadata>=3.6->nbformat>=4.2.0->ipywidgets==7.0.0) (4.4.0)\n",
      "Requirement already satisfied: parso<0.9.0,>=0.8.3 in /home/studio-lab-user/.conda/envs/autogluon_cpu/lib/python3.7/site-packages (from jedi>=0.16->ipython>=4.0.0->ipywidgets==7.0.0) (0.8.3)\n",
      "Requirement already satisfied: attrs>=17.4.0 in /home/studio-lab-user/.conda/envs/autogluon_cpu/lib/python3.7/site-packages (from jsonschema>=2.6->nbformat>=4.2.0->ipywidgets==7.0.0) (23.2.0)\n",
      "Requirement already satisfied: importlib-resources>=1.4.0 in /home/studio-lab-user/.conda/envs/autogluon_cpu/lib/python3.7/site-packages (from jsonschema>=2.6->nbformat>=4.2.0->ipywidgets==7.0.0) (5.12.0)\n",
      "Requirement already satisfied: pyrsistent!=0.17.0,!=0.17.1,!=0.17.2,>=0.14.0 in /home/studio-lab-user/.conda/envs/autogluon_cpu/lib/python3.7/site-packages (from jsonschema>=2.6->nbformat>=4.2.0->ipywidgets==7.0.0) (0.19.3)\n",
      "Requirement already satisfied: entrypoints in /home/studio-lab-user/.conda/envs/autogluon_cpu/lib/python3.7/site-packages (from jupyter-client>=6.1.12->ipykernel>=4.5.1->ipywidgets==7.0.0) (0.4)\n",
      "Requirement already satisfied: python-dateutil>=2.8.2 in /home/studio-lab-user/.conda/envs/autogluon_cpu/lib/python3.7/site-packages (from jupyter-client>=6.1.12->ipykernel>=4.5.1->ipywidgets==7.0.0) (2.8.2)\n",
      "Requirement already satisfied: jinja2 in /home/studio-lab-user/.conda/envs/autogluon_cpu/lib/python3.7/site-packages (from notebook>=4.4.1->widgetsnbextension~=3.0.0->ipywidgets==7.0.0) (3.1.3)\n",
      "Requirement already satisfied: argon2-cffi in /home/studio-lab-user/.conda/envs/autogluon_cpu/lib/python3.7/site-packages (from notebook>=4.4.1->widgetsnbextension~=3.0.0->ipywidgets==7.0.0) (23.1.0)\n",
      "Requirement already satisfied: ipython-genutils in /home/studio-lab-user/.conda/envs/autogluon_cpu/lib/python3.7/site-packages (from notebook>=4.4.1->widgetsnbextension~=3.0.0->ipywidgets==7.0.0) (0.2.0)\n",
      "Requirement already satisfied: nbconvert>=5 in /home/studio-lab-user/.conda/envs/autogluon_cpu/lib/python3.7/site-packages (from notebook>=4.4.1->widgetsnbextension~=3.0.0->ipywidgets==7.0.0) (7.6.0)\n",
      "Requirement already satisfied: Send2Trash>=1.8.0 in /home/studio-lab-user/.conda/envs/autogluon_cpu/lib/python3.7/site-packages (from notebook>=4.4.1->widgetsnbextension~=3.0.0->ipywidgets==7.0.0) (1.8.2)\n",
      "Requirement already satisfied: terminado>=0.8.3 in /home/studio-lab-user/.conda/envs/autogluon_cpu/lib/python3.7/site-packages (from notebook>=4.4.1->widgetsnbextension~=3.0.0->ipywidgets==7.0.0) (0.17.1)\n",
      "Requirement already satisfied: prometheus-client in /home/studio-lab-user/.conda/envs/autogluon_cpu/lib/python3.7/site-packages (from notebook>=4.4.1->widgetsnbextension~=3.0.0->ipywidgets==7.0.0) (0.17.1)\n",
      "Requirement already satisfied: nbclassic>=0.4.7 in /home/studio-lab-user/.conda/envs/autogluon_cpu/lib/python3.7/site-packages (from notebook>=4.4.1->widgetsnbextension~=3.0.0->ipywidgets==7.0.0) (1.0.0)\n",
      "Requirement already satisfied: ptyprocess>=0.5 in /home/studio-lab-user/.conda/envs/autogluon_cpu/lib/python3.7/site-packages (from pexpect>4.3->ipython>=4.0.0->ipywidgets==7.0.0) (0.7.0)\n",
      "Requirement already satisfied: wcwidth in /home/studio-lab-user/.conda/envs/autogluon_cpu/lib/python3.7/site-packages (from prompt-toolkit!=3.0.0,!=3.0.1,<3.1.0,>=2.0.0->ipython>=4.0.0->ipywidgets==7.0.0) (0.2.10)\n",
      "Requirement already satisfied: jupyter-server>=1.8 in /home/studio-lab-user/.conda/envs/autogluon_cpu/lib/python3.7/site-packages (from nbclassic>=0.4.7->notebook>=4.4.1->widgetsnbextension~=3.0.0->ipywidgets==7.0.0) (1.24.0)\n",
      "Requirement already satisfied: notebook-shim>=0.2.3 in /home/studio-lab-user/.conda/envs/autogluon_cpu/lib/python3.7/site-packages (from nbclassic>=0.4.7->notebook>=4.4.1->widgetsnbextension~=3.0.0->ipywidgets==7.0.0) (0.2.4)\n",
      "Requirement already satisfied: beautifulsoup4 in /home/studio-lab-user/.conda/envs/autogluon_cpu/lib/python3.7/site-packages (from nbconvert>=5->notebook>=4.4.1->widgetsnbextension~=3.0.0->ipywidgets==7.0.0) (4.12.3)\n",
      "Requirement already satisfied: bleach!=5.0.0 in /home/studio-lab-user/.conda/envs/autogluon_cpu/lib/python3.7/site-packages (from nbconvert>=5->notebook>=4.4.1->widgetsnbextension~=3.0.0->ipywidgets==7.0.0) (6.0.0)\n",
      "Requirement already satisfied: defusedxml in /home/studio-lab-user/.conda/envs/autogluon_cpu/lib/python3.7/site-packages (from nbconvert>=5->notebook>=4.4.1->widgetsnbextension~=3.0.0->ipywidgets==7.0.0) (0.7.1)\n",
      "Requirement already satisfied: jupyterlab-pygments in /home/studio-lab-user/.conda/envs/autogluon_cpu/lib/python3.7/site-packages (from nbconvert>=5->notebook>=4.4.1->widgetsnbextension~=3.0.0->ipywidgets==7.0.0) (0.2.2)\n",
      "Requirement already satisfied: markupsafe>=2.0 in /home/studio-lab-user/.conda/envs/autogluon_cpu/lib/python3.7/site-packages (from nbconvert>=5->notebook>=4.4.1->widgetsnbextension~=3.0.0->ipywidgets==7.0.0) (2.1.5)\n",
      "Requirement already satisfied: mistune<4,>=2.0.3 in /home/studio-lab-user/.conda/envs/autogluon_cpu/lib/python3.7/site-packages (from nbconvert>=5->notebook>=4.4.1->widgetsnbextension~=3.0.0->ipywidgets==7.0.0) (3.0.2)\n",
      "Requirement already satisfied: nbclient>=0.5.0 in /home/studio-lab-user/.conda/envs/autogluon_cpu/lib/python3.7/site-packages (from nbconvert>=5->notebook>=4.4.1->widgetsnbextension~=3.0.0->ipywidgets==7.0.0) (0.7.4)\n",
      "Requirement already satisfied: pandocfilters>=1.4.1 in /home/studio-lab-user/.conda/envs/autogluon_cpu/lib/python3.7/site-packages (from nbconvert>=5->notebook>=4.4.1->widgetsnbextension~=3.0.0->ipywidgets==7.0.0) (1.5.1)\n",
      "Requirement already satisfied: tinycss2 in /home/studio-lab-user/.conda/envs/autogluon_cpu/lib/python3.7/site-packages (from nbconvert>=5->notebook>=4.4.1->widgetsnbextension~=3.0.0->ipywidgets==7.0.0) (1.2.1)\n",
      "Requirement already satisfied: six>=1.5 in /home/studio-lab-user/.conda/envs/autogluon_cpu/lib/python3.7/site-packages (from python-dateutil>=2.8.2->jupyter-client>=6.1.12->ipykernel>=4.5.1->ipywidgets==7.0.0) (1.16.0)\n",
      "Requirement already satisfied: argon2-cffi-bindings in /home/studio-lab-user/.conda/envs/autogluon_cpu/lib/python3.7/site-packages (from argon2-cffi->notebook>=4.4.1->widgetsnbextension~=3.0.0->ipywidgets==7.0.0) (21.2.0)\n",
      "Requirement already satisfied: webencodings in /home/studio-lab-user/.conda/envs/autogluon_cpu/lib/python3.7/site-packages (from bleach!=5.0.0->nbconvert>=5->notebook>=4.4.1->widgetsnbextension~=3.0.0->ipywidgets==7.0.0) (0.5.1)\n",
      "Requirement already satisfied: anyio<4,>=3.1.0 in /home/studio-lab-user/.conda/envs/autogluon_cpu/lib/python3.7/site-packages (from jupyter-server>=1.8->nbclassic>=0.4.7->notebook>=4.4.1->widgetsnbextension~=3.0.0->ipywidgets==7.0.0) (3.7.1)\n",
      "Requirement already satisfied: websocket-client in /home/studio-lab-user/.conda/envs/autogluon_cpu/lib/python3.7/site-packages (from jupyter-server>=1.8->nbclassic>=0.4.7->notebook>=4.4.1->widgetsnbextension~=3.0.0->ipywidgets==7.0.0) (1.6.1)\n",
      "Requirement already satisfied: cffi>=1.0.1 in /home/studio-lab-user/.conda/envs/autogluon_cpu/lib/python3.7/site-packages (from argon2-cffi-bindings->argon2-cffi->notebook>=4.4.1->widgetsnbextension~=3.0.0->ipywidgets==7.0.0) (1.15.1)\n",
      "Requirement already satisfied: soupsieve>1.2 in /home/studio-lab-user/.conda/envs/autogluon_cpu/lib/python3.7/site-packages (from beautifulsoup4->nbconvert>=5->notebook>=4.4.1->widgetsnbextension~=3.0.0->ipywidgets==7.0.0) (2.4.1)\n",
      "Requirement already satisfied: idna>=2.8 in /home/studio-lab-user/.conda/envs/autogluon_cpu/lib/python3.7/site-packages (from anyio<4,>=3.1.0->jupyter-server>=1.8->nbclassic>=0.4.7->notebook>=4.4.1->widgetsnbextension~=3.0.0->ipywidgets==7.0.0) (3.6)\n",
      "Requirement already satisfied: sniffio>=1.1 in /home/studio-lab-user/.conda/envs/autogluon_cpu/lib/python3.7/site-packages (from anyio<4,>=3.1.0->jupyter-server>=1.8->nbclassic>=0.4.7->notebook>=4.4.1->widgetsnbextension~=3.0.0->ipywidgets==7.0.0) (1.3.0)\n",
      "Requirement already satisfied: exceptiongroup in /home/studio-lab-user/.conda/envs/autogluon_cpu/lib/python3.7/site-packages (from anyio<4,>=3.1.0->jupyter-server>=1.8->nbclassic>=0.4.7->notebook>=4.4.1->widgetsnbextension~=3.0.0->ipywidgets==7.0.0) (1.2.0)\n",
      "Requirement already satisfied: pycparser in /home/studio-lab-user/.conda/envs/autogluon_cpu/lib/python3.7/site-packages (from cffi>=1.0.1->argon2-cffi-bindings->argon2-cffi->notebook>=4.4.1->widgetsnbextension~=3.0.0->ipywidgets==7.0.0) (2.21)\n",
      "\u001b[33mDEPRECATION: pytorch-lightning 1.7.7 has a non-standard dependency specifier torch>=1.9.*. pip 24.1 will enforce this behaviour change. A possible replacement is to upgrade to a newer version of pytorch-lightning or contact the author to suggest that they release a version with a conforming dependency specifiers. Discussion can be found at https://github.com/pypa/pip/issues/12063\u001b[0m\u001b[33m\n",
      "\u001b[0m"
     ]
    }
   ],
   "source": [
    "!pip install ipywidgets==7.0.0"
   ]
  },
  {
   "cell_type": "code",
   "execution_count": 16,
   "id": "f202237e-b0d8-4ea2-8373-9bb60b7a7f20",
   "metadata": {
    "tags": []
   },
   "outputs": [
    {
     "name": "stderr",
     "output_type": "stream",
     "text": [
      "Unzipping ./ag_automm_tutorial_imgcls/file.zip to ./ag_automm_tutorial_imgcls\n"
     ]
    },
    {
     "name": "stdout",
     "output_type": "stream",
     "text": [
      "                                                                                                                                             image  \\\n",
      "0               /home/studio-lab-user/sagemaker-studiolab-notebooks/ag-default/ag_automm_tutorial_imgcls/shopee/train/BabyPants/BabyPants_1009.jpg   \n",
      "1                /home/studio-lab-user/sagemaker-studiolab-notebooks/ag-default/ag_automm_tutorial_imgcls/shopee/train/BabyPants/BabyPants_103.jpg   \n",
      "2               /home/studio-lab-user/sagemaker-studiolab-notebooks/ag-default/ag_automm_tutorial_imgcls/shopee/train/BabyPants/BabyPants_1038.jpg   \n",
      "3               /home/studio-lab-user/sagemaker-studiolab-notebooks/ag-default/ag_automm_tutorial_imgcls/shopee/train/BabyPants/BabyPants_1041.jpg   \n",
      "4               /home/studio-lab-user/sagemaker-studiolab-notebooks/ag-default/ag_automm_tutorial_imgcls/shopee/train/BabyPants/BabyPants_1042.jpg   \n",
      "..                                                                                                                                             ...   \n",
      "795  /home/studio-lab-user/sagemaker-studiolab-notebooks/ag-default/ag_automm_tutorial_imgcls/shopee/train/womenchiffontop/womenchiffontop_959.jpg   \n",
      "796  /home/studio-lab-user/sagemaker-studiolab-notebooks/ag-default/ag_automm_tutorial_imgcls/shopee/train/womenchiffontop/womenchiffontop_960.jpg   \n",
      "797  /home/studio-lab-user/sagemaker-studiolab-notebooks/ag-default/ag_automm_tutorial_imgcls/shopee/train/womenchiffontop/womenchiffontop_974.jpg   \n",
      "798  /home/studio-lab-user/sagemaker-studiolab-notebooks/ag-default/ag_automm_tutorial_imgcls/shopee/train/womenchiffontop/womenchiffontop_975.jpg   \n",
      "799  /home/studio-lab-user/sagemaker-studiolab-notebooks/ag-default/ag_automm_tutorial_imgcls/shopee/train/womenchiffontop/womenchiffontop_977.jpg   \n",
      "\n",
      "     label  \n",
      "0        0  \n",
      "1        0  \n",
      "2        0  \n",
      "3        0  \n",
      "4        0  \n",
      "..     ...  \n",
      "795      3  \n",
      "796      3  \n",
      "797      3  \n",
      "798      3  \n",
      "799      3  \n",
      "\n",
      "[800 rows x 2 columns]\n"
     ]
    }
   ],
   "source": [
    "import warnings\n",
    "warnings.filterwarnings('ignore')\n",
    "import pandas as pd\n",
    "\n",
    "from autogluon.multimodal.utils.misc import shopee_dataset\n",
    "download_dir = './ag_automm_tutorial_imgcls'\n",
    "train_data, test_data = shopee_dataset(download_dir)\n",
    "print(train_data)\n"
   ]
  },
  {
   "cell_type": "code",
   "execution_count": 20,
   "id": "afb9e120-128e-44cc-a7ff-62303202a71c",
   "metadata": {
    "tags": []
   },
   "outputs": [
    {
     "name": "stderr",
     "output_type": "stream",
     "text": [
      "INFO:pytorch_lightning.utilities.seed:Global seed set to 123\n",
      "INFO:pytorch_lightning.utilities.rank_zero:GPU available: False, used: False\n",
      "INFO:pytorch_lightning.utilities.rank_zero:TPU available: False, using: 0 TPU cores\n",
      "INFO:pytorch_lightning.utilities.rank_zero:IPU available: False, using: 0 IPUs\n",
      "INFO:pytorch_lightning.utilities.rank_zero:HPU available: False, using: 0 HPUs\n",
      "INFO:pytorch_lightning.callbacks.model_summary:\n",
      "  | Name              | Type                            | Params\n",
      "----------------------------------------------------------------------\n",
      "0 | model             | TimmAutoModelForImagePrediction | 86.7 M\n",
      "1 | validation_metric | Accuracy                        | 0     \n",
      "2 | loss_func         | CrossEntropyLoss                | 0     \n",
      "----------------------------------------------------------------------\n",
      "86.7 M    Trainable params\n",
      "0         Non-trainable params\n",
      "86.7 M    Total params\n",
      "346.989   Total estimated model params size (MB)\n"
     ]
    },
    {
     "data": {
      "application/vnd.jupyter.widget-view+json": {
       "model_id": "",
       "version_major": 2,
       "version_minor": 0
      },
      "text/plain": [
       "A Jupyter Widget"
      ]
     },
     "metadata": {},
     "output_type": "display_data"
    },
    {
     "data": {
      "application/vnd.jupyter.widget-view+json": {
       "model_id": "3b06809eaf4f4b02a87826138bcf2e32",
       "version_major": 2,
       "version_minor": 0
      },
      "text/plain": [
       "A Jupyter Widget"
      ]
     },
     "metadata": {},
     "output_type": "display_data"
    },
    {
     "data": {
      "application/vnd.jupyter.widget-view+json": {
       "model_id": "",
       "version_major": 2,
       "version_minor": 0
      },
      "text/plain": [
       "A Jupyter Widget"
      ]
     },
     "metadata": {},
     "output_type": "display_data"
    },
    {
     "name": "stderr",
     "output_type": "stream",
     "text": [
      "INFO:pytorch_lightning.utilities.rank_zero:Epoch 0, global step 2: 'val_accuracy' reached 0.32500 (best 0.32500), saving model to '/home/studio-lab-user/sagemaker-studiolab-notebooks/ag-default/tmp/2956c0e81dd4446e899611a39ff28ee4-automm_shopee/epoch=0-step=2.ckpt' as top 3\n"
     ]
    },
    {
     "data": {
      "application/vnd.jupyter.widget-view+json": {
       "model_id": "",
       "version_major": 2,
       "version_minor": 0
      },
      "text/plain": [
       "A Jupyter Widget"
      ]
     },
     "metadata": {},
     "output_type": "display_data"
    },
    {
     "name": "stderr",
     "output_type": "stream",
     "text": [
      "INFO:pytorch_lightning.utilities.rank_zero:Epoch 0, global step 5: 'val_accuracy' reached 0.86875 (best 0.86875), saving model to '/home/studio-lab-user/sagemaker-studiolab-notebooks/ag-default/tmp/2956c0e81dd4446e899611a39ff28ee4-automm_shopee/epoch=0-step=5.ckpt' as top 3\n",
      "INFO:pytorch_lightning.utilities.rank_zero:Time limit reached. Elapsed time is 0:08:24. Signaling Trainer to stop.\n"
     ]
    },
    {
     "data": {
      "application/vnd.jupyter.widget-view+json": {
       "model_id": "",
       "version_major": 2,
       "version_minor": 0
      },
      "text/plain": [
       "A Jupyter Widget"
      ]
     },
     "metadata": {},
     "output_type": "display_data"
    },
    {
     "name": "stderr",
     "output_type": "stream",
     "text": [
      "INFO:pytorch_lightning.utilities.rank_zero:Epoch 1, global step 5: 'val_accuracy' reached 0.86875 (best 0.86875), saving model to '/home/studio-lab-user/sagemaker-studiolab-notebooks/ag-default/tmp/2956c0e81dd4446e899611a39ff28ee4-automm_shopee/epoch=1-step=5.ckpt' as top 3\n",
      "INFO:automm:Start to fuse 3 checkpoints via the greedy soup algorithm.\n"
     ]
    },
    {
     "data": {
      "application/vnd.jupyter.widget-view+json": {
       "model_id": "5c23e39e579e42eeaaf1addffff63d46",
       "version_major": 2,
       "version_minor": 0
      },
      "text/plain": [
       "A Jupyter Widget"
      ]
     },
     "metadata": {},
     "output_type": "display_data"
    },
    {
     "data": {
      "application/vnd.jupyter.widget-view+json": {
       "model_id": "3131d2d28a4c473eb1786a23024867ea",
       "version_major": 2,
       "version_minor": 0
      },
      "text/plain": [
       "A Jupyter Widget"
      ]
     },
     "metadata": {},
     "output_type": "display_data"
    },
    {
     "data": {
      "application/vnd.jupyter.widget-view+json": {
       "model_id": "40c6a9855d5447868344886ddab050ef",
       "version_major": 2,
       "version_minor": 0
      },
      "text/plain": [
       "A Jupyter Widget"
      ]
     },
     "metadata": {},
     "output_type": "display_data"
    },
    {
     "data": {
      "application/vnd.jupyter.widget-view+json": {
       "model_id": "411da505da894f5c8bb2048c3f1e07ce",
       "version_major": 2,
       "version_minor": 0
      },
      "text/plain": [
       "A Jupyter Widget"
      ]
     },
     "metadata": {},
     "output_type": "display_data"
    },
    {
     "name": "stderr",
     "output_type": "stream",
     "text": [
      "INFO:automm:Models and intermediate outputs are saved to /home/studio-lab-user/sagemaker-studiolab-notebooks/ag-default/tmp/2956c0e81dd4446e899611a39ff28ee4-automm_shopee \n"
     ]
    },
    {
     "data": {
      "text/plain": [
       "<autogluon.multimodal.predictor.MultiModalPredictor at 0x7fec47737590>"
      ]
     },
     "execution_count": 20,
     "metadata": {},
     "output_type": "execute_result"
    }
   ],
   "source": [
    "from autogluon.multimodal import MultiModalPredictor\n",
    "import uuid\n",
    "model_path = f\"./tmp/{uuid.uuid4().hex}-automm_shopee\"\n",
    "predictor = MultiModalPredictor(label=\"label\", path=model_path)\n",
    "predictor.fit(\n",
    "    train_data=train_data,\n",
    "    time_limit=500, # 500 seconds increase for better results.\n",
    ") # you can trust the default config, e.g., we use a `swin_base_patch4_window7_224` model"
   ]
  },
  {
   "cell_type": "code",
   "execution_count": 21,
   "id": "da194296-91d3-42fb-9806-341ea0f68f51",
   "metadata": {
    "tags": []
   },
   "outputs": [
    {
     "data": {
      "application/vnd.jupyter.widget-view+json": {
       "model_id": "295445b5d25546d082d70d2dde31c197",
       "version_major": 2,
       "version_minor": 0
      },
      "text/plain": [
       "A Jupyter Widget"
      ]
     },
     "metadata": {},
     "output_type": "display_data"
    },
    {
     "name": "stdout",
     "output_type": "stream",
     "text": [
      "Top-1 test acc: 0.912\n"
     ]
    }
   ],
   "source": [
    "scores = predictor.evaluate(test_data, metrics=[\"accuracy\"])\n",
    "print('Top-1 test acc: %.3f' % scores[\"accuracy\"])"
   ]
  },
  {
   "cell_type": "code",
   "execution_count": null,
   "id": "67f6674c-67d5-4264-b6c7-8924eb08a11b",
   "metadata": {},
   "outputs": [],
   "source": []
  },
  {
   "cell_type": "code",
   "execution_count": 22,
   "id": "893fef2d-310f-4b93-8b01-433408f77f8a",
   "metadata": {
    "tags": []
   },
   "outputs": [
    {
     "name": "stdout",
     "output_type": "stream",
     "text": [
      "                                                                                                                                image  \\\n",
      "0  /home/studio-lab-user/sagemaker-studiolab-notebooks/ag-default/ag_automm_tutorial_imgcls/shopee/train/BabyPants/BabyPants_1009.jpg   \n",
      "1   /home/studio-lab-user/sagemaker-studiolab-notebooks/ag-default/ag_automm_tutorial_imgcls/shopee/train/BabyPants/BabyPants_103.jpg   \n",
      "2  /home/studio-lab-user/sagemaker-studiolab-notebooks/ag-default/ag_automm_tutorial_imgcls/shopee/train/BabyPants/BabyPants_1038.jpg   \n",
      "3  /home/studio-lab-user/sagemaker-studiolab-notebooks/ag-default/ag_automm_tutorial_imgcls/shopee/train/BabyPants/BabyPants_1041.jpg   \n",
      "4  /home/studio-lab-user/sagemaker-studiolab-notebooks/ag-default/ag_automm_tutorial_imgcls/shopee/train/BabyPants/BabyPants_1042.jpg   \n",
      "\n",
      "   label  \n",
      "0      0  \n",
      "1      0  \n",
      "2      0  \n",
      "3      0  \n",
      "4      0  \n",
      "/home/studio-lab-user/sagemaker-studiolab-notebooks/ag-default/ag_automm_tutorial_imgcls/shopee/train/BabyPants/BabyPants_1009.jpg\n",
      "0\n",
      "/home/studio-lab-user/sagemaker-studiolab-notebooks/ag-default/ag_automm_tutorial_imgcls/shopee/train/womencasualshoes/womencasualshoes_2398.jpg\n",
      "2\n"
     ]
    }
   ],
   "source": [
    "print(train_data.head())\n",
    "print(train_data.iloc[0]['image'])\n",
    "print(train_data.iloc[0]['label'])\n",
    "print(train_data.iloc[500]['image'])\n",
    "print(train_data.iloc[500]['label'])"
   ]
  },
  {
   "cell_type": "code",
   "execution_count": 23,
   "id": "931aa162-1f72-42bb-b999-e23509b939a0",
   "metadata": {
    "tags": []
   },
   "outputs": [
    {
     "data": {
      "application/vnd.jupyter.widget-view+json": {
       "model_id": "1551cabdea4b47b8a079d45b5c4c55e1",
       "version_major": 2,
       "version_minor": 0
      },
      "text/plain": [
       "A Jupyter Widget"
      ]
     },
     "metadata": {},
     "output_type": "display_data"
    }
   ],
   "source": [
    "from sklearn.metrics import classification_report\n",
    "predictions = predictor.predict(test_data)\n"
   ]
  },
  {
   "cell_type": "code",
   "execution_count": 26,
   "id": "4760a268-0468-4d8f-b1d8-0a3fca3d1eef",
   "metadata": {
    "tags": []
   },
   "outputs": [
    {
     "name": "stdout",
     "output_type": "stream",
     "text": [
      "              precision    recall  f1-score   support\n",
      "\n",
      "           0       0.86      0.95      0.90        20\n",
      "           1       0.85      0.85      0.85        20\n",
      "           2       0.95      1.00      0.98        20\n",
      "           3       1.00      0.85      0.92        20\n",
      "\n",
      "    accuracy                           0.91        80\n",
      "   macro avg       0.92      0.91      0.91        80\n",
      "weighted avg       0.92      0.91      0.91        80\n",
      "\n"
     ]
    }
   ],
   "source": [
    "print(classification_report(test_data[\"label\"], predictions))"
   ]
  }
 ],
 "metadata": {
  "kernelspec": {
   "display_name": "autogluon_cpu:Python",
   "language": "python",
   "name": "conda-env-autogluon_cpu-py"
  },
  "language_info": {
   "codemirror_mode": {
    "name": "ipython",
    "version": 3
   },
   "file_extension": ".py",
   "mimetype": "text/x-python",
   "name": "python",
   "nbconvert_exporter": "python",
   "pygments_lexer": "ipython3",
   "version": "3.7.12"
  }
 },
 "nbformat": 4,
 "nbformat_minor": 5
}
